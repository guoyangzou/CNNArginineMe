{
 "cells": [
  {
   "cell_type": "markdown",
   "id": "6a8241ee",
   "metadata": {},
   "source": [
    "# 常用库"
   ]
  },
  {
   "cell_type": "code",
   "execution_count": 1,
   "id": "c6f0176f",
   "metadata": {
    "ExecuteTime": {
     "end_time": "2021-05-06T02:46:10.450933Z",
     "start_time": "2021-05-06T02:46:05.350154Z"
    }
   },
   "outputs": [],
   "source": [
    "import torch \n",
    "from torch import nn\n",
    "from torch import optim\n",
    "from torch.utils.data import DataLoader, TensorDataset\n",
    "from torch.utils.tensorboard import SummaryWriter\n",
    "import tensorflow as tf\n",
    "from sklearn.preprocessing import OneHotEncoder\n",
    "import matplotlib.pyplot as plt\n",
    "import pandas as pd\n",
    "import numpy as np\n",
    "import os\n",
    "import re\n",
    "import random\n",
    "import requests \n",
    "import math\n",
    "#from pandarallel import pandarallel\n",
    "from scipy import stats\n",
    "#from bs4 import BeautifulSoup\n",
    "\n",
    "## 分类任务\n",
    "import sklearn.neighbors \n",
    "from sklearn.neighbors import KNeighborsClassifier  # K近邻\n",
    "import sklearn.svm\n",
    "from sklearn.svm import SVC  # 支持向量机\n",
    "from sklearn.svm import OneClassSVM  # \n",
    "import sklearn.naive_bayes\n",
    "from sklearn.naive_bayes import GaussianNB  # 朴素贝叶斯\n",
    "import sklearn.tree  \n",
    "from sklearn.tree import DecisionTreeClassifier  # 决策树\n",
    "import sklearn.ensemble  \n",
    "from sklearn.ensemble import BaggingClassifier  # 装袋法\n",
    "from sklearn.ensemble import RandomForestClassifier  # 随机森林\n",
    "import sklearn.neural_network\n",
    "from sklearn.neural_network import MLPClassifier  # 神经网络\n",
    "from sklearn.linear_model import LogisticRegression  # 逻辑回归\n",
    "from sklearn.preprocessing import PolynomialFeatures  # 多项式回归\n",
    "import sklearn.metrics\n",
    "from sklearn.metrics import classification_report,roc_auc_score,roc_curve\n",
    "from sklearn.model_selection import cross_val_predict\n",
    "\n",
    "from sklearn.manifold import TSNE,Isomap,MDS\n",
    "\n",
    "from sklearn.decomposition import PCA  # 主成分分析\n",
    "from sklearn.decomposition import TruncatedSVD  # 截断SVD和LSA\n",
    "from sklearn.decomposition import SparseCoder # 字典学习\n",
    "from sklearn.decomposition import FactorAnalysis # 因子分析\n",
    "from sklearn.decomposition import FastICA  # 独立成分分析  \n",
    "from sklearn.decomposition import NMF  # 非负矩阵分解\n",
    "from sklearn.decomposition import LatentDirichletAllocation  # LDA\n",
    "\n",
    "#gpus = tf.config.experimental.list_physical_devices(device_type=\"GPU\")\n",
    "\n",
    "#tf.config.experimental.set_virtual_device_configuration(gpus[0],[tf.config.experimental.VirtualDeviceConfiguration(memory_limit=6096)])"
   ]
  },
  {
   "cell_type": "markdown",
   "id": "ea3ca068",
   "metadata": {},
   "source": [
    "# 优秀DL模型框架"
   ]
  },
  {
   "cell_type": "markdown",
   "id": "65944549",
   "metadata": {},
   "source": [
    "## DeepKme针对Rm1（DL改良版）"
   ]
  },
  {
   "cell_type": "code",
   "execution_count": 38,
   "id": "aee7555f",
   "metadata": {
    "ExecuteTime": {
     "end_time": "2021-05-05T06:00:43.676144Z",
     "start_time": "2021-05-05T06:00:43.200434Z"
    }
   },
   "outputs": [
    {
     "name": "stdout",
     "output_type": "stream",
     "text": [
      "ERROR! Session/line number was not unique in database. History logging moved to new session 409\n",
      "Model: \"model\"\n",
      "_________________________________________________________________\n",
      "Layer (type)                 Output Shape              Param #   \n",
      "=================================================================\n",
      "sequential (Sequential)      multiple                  11328     \n",
      "_________________________________________________________________\n",
      "sequential_1 (Sequential)    multiple                  8992      \n",
      "_________________________________________________________________\n",
      "sequential_2 (Sequential)    multiple                  21681     \n",
      "=================================================================\n",
      "Total params: 42,001\n",
      "Trainable params: 41,809\n",
      "Non-trainable params: 192\n",
      "_________________________________________________________________\n"
     ]
    }
   ],
   "source": [
    "class Model(tf.keras.Model):\n",
    "    def __init__(self):\n",
    "        super().__init__()\n",
    "        self.compile(optimizer=tf.optimizers.Adam()\n",
    "                     ,loss=tf.losses.BinaryCrossentropy()\n",
    "                     ,metrics=[tf.metrics.AUC(1000)]\n",
    "                    )\n",
    "        \n",
    "        self.cnn1 = tf.keras.Sequential([\n",
    "            tf.keras.layers.Reshape([51,21]),\n",
    "            tf.keras.layers.Conv1D(64,6,1,\"valid\"),\n",
    "            tf.keras.layers.BatchNormalization(),\n",
    "            tf.keras.layers.PReLU(),\n",
    "            tf.keras.layers.MaxPool1D(),\n",
    "            tf.keras.layers.AlphaDropout(0.5),\n",
    "            #tf.keras.layers.Reshape([23*64]),\n",
    "        ])\n",
    "        self.cnn2 = tf.keras.Sequential([\n",
    "           # tf.keras.layers.Reshape([23,64]),\n",
    "            tf.keras.layers.Conv1D(32,4,1,\"valid\"),\n",
    "            tf.keras.layers.BatchNormalization(),\n",
    "            tf.keras.layers.PReLU(),\n",
    "            tf.keras.layers.MaxPool1D(),\n",
    "            #tf.keras.layers.AlphaDropout(0.5),\n",
    "            tf.keras.layers.Reshape([10*32]),\n",
    "        ])\n",
    "\n",
    "        self.simple = tf.keras.Sequential([\n",
    "            tf.keras.layers.Dense(64),\n",
    "            tf.keras.layers.PReLU(),\n",
    "            tf.keras.layers.Dense(16,kernel_regularizer=\"l2\"),\n",
    "            tf.keras.layers.PReLU(),\n",
    "            tf.keras.layers.Dense(1,activation=\"sigmoid\"),\n",
    "        ])\n",
    "    def call(self, inputs):\n",
    "        \n",
    "        c1 = self.cnn1(inputs)\n",
    "        c2 = self.cnn2(c1)\n",
    "        #c3 = self.cnn3(c2)\n",
    "        #x = tf.keras.layers.Concatenate()([c2,c3])\n",
    "        x = self.simple(c2)\n",
    "        \n",
    "        return x\n",
    "    \n",
    "model = Model()\n",
    "model.build((None,51*21))\n",
    "model.summary()\n",
    "#很好 分为类别加权1：5和不加权对Rm1分别进行测试，结果十折结果已测试。包括十折交叉验证的验证集（但不调超参数）、测试集、以及非冗余测试集结果"
   ]
  },
  {
   "cell_type": "markdown",
   "id": "9424051e",
   "metadata": {},
   "source": [
    "## DeepKme单任务版（DL原始版）"
   ]
  },
  {
   "cell_type": "code",
   "execution_count": 7,
   "id": "11f952bf",
   "metadata": {
    "ExecuteTime": {
     "end_time": "2021-05-06T02:46:57.363494Z",
     "start_time": "2021-05-06T02:46:55.416387Z"
    }
   },
   "outputs": [
    {
     "name": "stdout",
     "output_type": "stream",
     "text": [
      "Model: \"model\"\n",
      "_________________________________________________________________\n",
      "Layer (type)                 Output Shape              Param #   \n",
      "=================================================================\n",
      "sequential (Sequential)      multiple                  49664     \n",
      "_________________________________________________________________\n",
      "sequential_1 (Sequential)    multiple                  57504     \n",
      "_________________________________________________________________\n",
      "sequential_2 (Sequential)    multiple                  28929     \n",
      "=================================================================\n",
      "Total params: 136,097\n",
      "Trainable params: 135,521\n",
      "Non-trainable params: 576\n",
      "_________________________________________________________________\n"
     ]
    }
   ],
   "source": [
    "class Model(tf.keras.Model):\n",
    "    def __init__(self):\n",
    "        super().__init__()\n",
    "        self.compile(optimizer=tf.optimizers.Adam()\n",
    "                     ,loss=tf.losses.BinaryCrossentropy()\n",
    "                     ,metrics=[tf.metrics.AUC(1000)]\n",
    "                    )\n",
    "        \n",
    "        self.cnn1 = tf.keras.Sequential([\n",
    "            tf.keras.layers.Reshape([51,21]),\n",
    "            tf.keras.layers.Conv1D(256,9,1,\"valid\"),\n",
    "            tf.keras.layers.BatchNormalization(),\n",
    "            tf.keras.layers.ReLU(),\n",
    "            tf.keras.layers.MaxPool1D(),\n",
    "            tf.keras.layers.Dropout(0.7),\n",
    "        ])\n",
    "        self.cnn2 = tf.keras.Sequential([\n",
    "            tf.keras.layers.Reshape([21,256]),\n",
    "            tf.keras.layers.Conv1D(32,7,1,\"valid\"),\n",
    "            tf.keras.layers.BatchNormalization(),\n",
    "            tf.keras.layers.ReLU(),\n",
    "            tf.keras.layers.MaxPool1D(),\n",
    "            tf.keras.layers.Dropout(0.5),\n",
    "        ])\n",
    "        self.simple = tf.keras.Sequential([\n",
    "            tf.keras.layers.Reshape([7*32]),\n",
    "            tf.keras.layers.Dense(128),\n",
    "            tf.keras.layers.ReLU(),\n",
    "            tf.keras.layers.Dense(1,activation=\"sigmoid\"),\n",
    "        ])\n",
    "    def call(self, inputs):\n",
    "        \n",
    "        x = self.cnn1(inputs)\n",
    "        x = self.cnn2(x)\n",
    "        x = self.simple(x)\n",
    "        \n",
    "        return x\n",
    "    \n",
    "model = Model()\n",
    "model.build((None,51*21))\n",
    "model.summary()"
   ]
  },
  {
   "cell_type": "markdown",
   "id": "892e6103",
   "metadata": {},
   "source": [
    "# 传统机器学习模型"
   ]
  },
  {
   "cell_type": "markdown",
   "id": "50c73d71",
   "metadata": {},
   "source": [
    "## RandomForestClassifier"
   ]
  },
  {
   "cell_type": "code",
   "execution_count": null,
   "id": "a2fac3b3",
   "metadata": {},
   "outputs": [],
   "source": [
    "auc_test_list = list()\n",
    "SnSp90_test_list = list()\n",
    "SnSp95_test_list = list()\n",
    "SnSp99_test_list = list()\n",
    "\n",
    "auc_valid_list = list()\n",
    "SnSp90_valid_list = list()\n",
    "SnSp95_valid_list = list()\n",
    "SnSp99_valid_list = list()\n",
    "for i in range(10):\n",
    "    model = RandomForestClassifier()\n",
    "\n",
    "    model.fit(x_train_m1_list[i],y_train_m1_list[i].ravel())\n",
    "\n",
    "    torch.save(model,f\"./Model/m1_RF_{i+1}.hdf5\")\n",
    "\n",
    "    model = torch.load(f\"./Model/m1_RF_{i+1}.hdf5\")\n",
    "\n",
    "    y_pred = model.predict_proba(x_test_m1)[:,1]\n",
    "    y_true = y_test_m1[:,0]\n",
    "    auc_test = tf.metrics.AUC(1000)(y_true,y_pred)\n",
    "    SnSp90_test = tf.metrics.SensitivityAtSpecificity(0.9)(y_true,y_pred)\n",
    "    SnSp95_test = tf.metrics.SensitivityAtSpecificity(0.95)(y_true,y_pred)\n",
    "    SnSp99_test = tf.metrics.SensitivityAtSpecificity(0.99)(y_true,y_pred)\n",
    "    auc_test_list.append(auc_test)\n",
    "    SnSp90_test_list.append(SnSp90_test)\n",
    "    SnSp95_test_list.append(SnSp95_test)\n",
    "    SnSp99_test_list.append(SnSp99_test)\n",
    "    \n",
    "    y_pred = model.predict_proba(x_valid_m1_list[i])[:,1]\n",
    "    y_true = y_valid_m1_list[i][:,0]\n",
    "    auc_valid = tf.metrics.AUC(1000)(y_true,y_pred)\n",
    "    SnSp90_valid = tf.metrics.SensitivityAtSpecificity(0.9)(y_true,y_pred)\n",
    "    SnSp95_valid = tf.metrics.SensitivityAtSpecificity(0.95)(y_true,y_pred)\n",
    "    SnSp99_valid = tf.metrics.SensitivityAtSpecificity(0.99)(y_true,y_pred)\n",
    "    auc_valid_list.append(auc_valid)\n",
    "    SnSp90_valid_list.append(SnSp90_valid)\n",
    "    SnSp95_valid_list.append(SnSp95_valid)\n",
    "    SnSp99_valid_list.append(SnSp99_valid)"
   ]
  },
  {
   "cell_type": "code",
   "execution_count": null,
   "id": "52d2e817",
   "metadata": {},
   "outputs": [],
   "source": [
    "print(\"test:AUC, Sn(Sp=0.9), Sn(Sp=0.95), Sn(Sp=0.99)\")    \n",
    "for i in range(10):\n",
    "    print(\"%5.3f %5.3f %5.3f %5.3f\"%(\n",
    "        auc_test_list[i],SnSp90_test_list[i],SnSp95_test_list[i],SnSp99_test_list[i]\n",
    "    ))\n",
    "\n",
    "print(\"valid:AUC, Sn(Sp=0.9), Sn(Sp=0.95), Sn(Sp=0.99)\")  \n",
    "for i in range(10):      \n",
    "    print(\"%5.3f %5.3f %5.3f %5.3f\"%(\n",
    "        auc_valid_list[i],SnSp90_valid_list[i],SnSp95_valid_list[i],SnSp99_valid_list[i]\n",
    "    ))\n",
    "\n",
    "print(\"test:AUC, Sn(Sp=0.9), Sn(Sp=0.95), Sn(Sp=0.99)\")\n",
    "print(np.mean(auc_test_list),np.mean(SnSp90_test_list),np.mean(SnSp95_test_list),np.mean(SnSp99_test_list))  \n",
    "print(\"valid:AUC, Sn(Sp=0.9), Sn(Sp=0.95), Sn(Sp=0.99)\")  \n",
    "print(np.mean(auc_valid_list),np.mean(SnSp90_valid_list),np.mean(SnSp95_valid_list),np.mean(SnSp99_valid_list))"
   ]
  },
  {
   "cell_type": "markdown",
   "id": "4b2c22ab",
   "metadata": {},
   "source": [
    "## SVC"
   ]
  },
  {
   "cell_type": "code",
   "execution_count": null,
   "id": "5273dea7",
   "metadata": {},
   "outputs": [],
   "source": [
    "auc_test_list = list()\n",
    "SnSp90_test_list = list()\n",
    "SnSp95_test_list = list()\n",
    "SnSp99_test_list = list()\n",
    "\n",
    "auc_valid_list = list()\n",
    "SnSp90_valid_list = list()\n",
    "SnSp95_valid_list = list()\n",
    "SnSp99_valid_list = list()\n",
    "for i in range(10):\n",
    "    model = SVC(probability=True)\n",
    "\n",
    "    model.fit(x_train_m1_list[i],y_train_m1_list[i].ravel())\n",
    "\n",
    "    #torch.save(model,f\"./Model/m1_SVC_{i+1}.hdf5\")\n",
    "\n",
    "    model = torch.load(f\"./Model/m1_SVC_{i+1}.hdf5\")\n",
    "\n",
    "    y_pred = model.predict_proba(x_test_m1)[:,1]\n",
    "    y_true = y_test_m1[:,0]\n",
    "    auc_test = tf.metrics.AUC(1000)(y_true,y_pred)\n",
    "    SnSp90_test = tf.metrics.SensitivityAtSpecificity(0.9)(y_true,y_pred)\n",
    "    SnSp95_test = tf.metrics.SensitivityAtSpecificity(0.95)(y_true,y_pred)\n",
    "    SnSp99_test = tf.metrics.SensitivityAtSpecificity(0.99)(y_true,y_pred)\n",
    "    auc_test_list.append(auc_test)\n",
    "    SnSp90_test_list.append(SnSp90_test)\n",
    "    SnSp95_test_list.append(SnSp95_test)\n",
    "    SnSp99_test_list.append(SnSp99_test)\n",
    "    \n",
    "    y_pred = model.predict_proba(x_valid_m1_list[i])[:,1]\n",
    "    y_true = y_valid_m1_list[i][:,0]\n",
    "    auc_valid = tf.metrics.AUC(1000)(y_true,y_pred)\n",
    "    SnSp90_valid = tf.metrics.SensitivityAtSpecificity(0.9)(y_true,y_pred)\n",
    "    SnSp95_valid = tf.metrics.SensitivityAtSpecificity(0.95)(y_true,y_pred)\n",
    "    SnSp99_valid = tf.metrics.SensitivityAtSpecificity(0.99)(y_true,y_pred)\n",
    "    auc_valid_list.append(auc_valid)\n",
    "    SnSp90_valid_list.append(SnSp90_valid)\n",
    "    SnSp95_valid_list.append(SnSp95_valid)\n",
    "    SnSp99_valid_list.append(SnSp99_valid)"
   ]
  },
  {
   "cell_type": "code",
   "execution_count": null,
   "id": "1219af51",
   "metadata": {},
   "outputs": [],
   "source": [
    "print(\"test:AUC, Sn(Sp=0.9), Sn(Sp=0.95), Sn(Sp=0.99)\")    \n",
    "for i in range(10):\n",
    "    print(\"%5.3f %5.3f %5.3f %5.3f\"%(\n",
    "        auc_test_list[i],SnSp90_test_list[i],SnSp95_test_list[i],SnSp99_test_list[i]\n",
    "    ))\n",
    "\n",
    "print(\"valid:AUC, Sn(Sp=0.9), Sn(Sp=0.95), Sn(Sp=0.99)\")  \n",
    "for i in range(10):      \n",
    "    print(\"%5.3f %5.3f %5.3f %5.3f\"%(\n",
    "        auc_valid_list[i],SnSp90_valid_list[i],SnSp95_valid_list[i],SnSp99_valid_list[i]\n",
    "    ))\n",
    "\n",
    "print(\"test:AUC, Sn(Sp=0.9), Sn(Sp=0.95), Sn(Sp=0.99)\")\n",
    "print(np.mean(auc_test_list),np.mean(SnSp90_test_list),np.mean(SnSp95_test_list),np.mean(SnSp99_test_list))  \n",
    "print(\"valid:AUC, Sn(Sp=0.9), Sn(Sp=0.95), Sn(Sp=0.99)\")  \n",
    "print(np.mean(auc_valid_list),np.mean(SnSp90_valid_list),np.mean(SnSp95_valid_list),np.mean(SnSp99_valid_list))"
   ]
  },
  {
   "cell_type": "markdown",
   "id": "8d28b643",
   "metadata": {},
   "source": [
    "## KNeighborsClassifier"
   ]
  },
  {
   "cell_type": "code",
   "execution_count": null,
   "id": "df8ed2e5",
   "metadata": {},
   "outputs": [],
   "source": [
    "auc_test_list = list()\n",
    "SnSp90_test_list = list()\n",
    "SnSp95_test_list = list()\n",
    "SnSp99_test_list = list()\n",
    "\n",
    "auc_valid_list = list()\n",
    "SnSp90_valid_list = list()\n",
    "SnSp95_valid_list = list()\n",
    "SnSp99_valid_list = list()\n",
    "for i in range(10):\n",
    "    model = KNeighborsClassifier()\n",
    "\n",
    "    model.fit(x_train_m1_list[i],y_train_m1_list[i].ravel())\n",
    "\n",
    "    #torch.save(model,f\"./Model/m1_KN_{i+1}.hdf5\")\n",
    "\n",
    "    model = torch.load(f\"./Model/m1_KN_{i+1}.hdf5\")\n",
    "\n",
    "    y_pred = model.predict_proba(x_test_m1)[:,1]\n",
    "    y_true = y_test_m1[:,0]\n",
    "    auc_test = tf.metrics.AUC(1000)(y_true,y_pred)\n",
    "    SnSp90_test = tf.metrics.SensitivityAtSpecificity(0.9)(y_true,y_pred)\n",
    "    SnSp95_test = tf.metrics.SensitivityAtSpecificity(0.95)(y_true,y_pred)\n",
    "    SnSp99_test = tf.metrics.SensitivityAtSpecificity(0.99)(y_true,y_pred)\n",
    "    auc_test_list.append(auc_test)\n",
    "    SnSp90_test_list.append(SnSp90_test)\n",
    "    SnSp95_test_list.append(SnSp95_test)\n",
    "    SnSp99_test_list.append(SnSp99_test)\n",
    "    \n",
    "    y_pred = model.predict_proba(x_valid_m1_list[i])[:,1]\n",
    "    y_true = y_valid_m1_list[i][:,0]\n",
    "    auc_valid = tf.metrics.AUC(1000)(y_true,y_pred)\n",
    "    SnSp90_valid = tf.metrics.SensitivityAtSpecificity(0.9)(y_true,y_pred)\n",
    "    SnSp95_valid = tf.metrics.SensitivityAtSpecificity(0.95)(y_true,y_pred)\n",
    "    SnSp99_valid = tf.metrics.SensitivityAtSpecificity(0.99)(y_true,y_pred)\n",
    "    auc_valid_list.append(auc_valid)\n",
    "    SnSp90_valid_list.append(SnSp90_valid)\n",
    "    SnSp95_valid_list.append(SnSp95_valid)\n",
    "    SnSp99_valid_list.append(SnSp99_valid)"
   ]
  },
  {
   "cell_type": "code",
   "execution_count": null,
   "id": "9e9c1f4a",
   "metadata": {},
   "outputs": [],
   "source": [
    "print(\"test:AUC, Sn(Sp=0.9), Sn(Sp=0.95), Sn(Sp=0.99)\")    \n",
    "for i in range(10):\n",
    "    print(\"%5.3f %5.3f %5.3f %5.3f\"%(\n",
    "        auc_test_list[i],SnSp90_test_list[i],SnSp95_test_list[i],SnSp99_test_list[i]\n",
    "    ))\n",
    "\n",
    "print(\"valid:AUC, Sn(Sp=0.9), Sn(Sp=0.95), Sn(Sp=0.99)\")  \n",
    "for i in range(10):      \n",
    "    print(\"%5.3f %5.3f %5.3f %5.3f\"%(\n",
    "        auc_valid_list[i],SnSp90_valid_list[i],SnSp95_valid_list[i],SnSp99_valid_list[i]\n",
    "    ))\n",
    "\n",
    "print(\"test:AUC, Sn(Sp=0.9), Sn(Sp=0.95), Sn(Sp=0.99)\")\n",
    "print(np.mean(auc_test_list),np.mean(SnSp90_test_list),np.mean(SnSp95_test_list),np.mean(SnSp99_test_list))  \n",
    "print(\"valid:AUC, Sn(Sp=0.9), Sn(Sp=0.95), Sn(Sp=0.99)\")  \n",
    "print(np.mean(auc_valid_list),np.mean(SnSp90_valid_list),np.mean(SnSp95_valid_list),np.mean(SnSp99_valid_list))"
   ]
  },
  {
   "cell_type": "markdown",
   "id": "8a25010e",
   "metadata": {},
   "source": [
    "##  GaussianNB"
   ]
  },
  {
   "cell_type": "code",
   "execution_count": null,
   "id": "157b531c",
   "metadata": {},
   "outputs": [],
   "source": [
    "auc_test_list = list()\n",
    "SnSp90_test_list = list()\n",
    "SnSp95_test_list = list()\n",
    "SnSp99_test_list = list()\n",
    "\n",
    "auc_valid_list = list()\n",
    "SnSp90_valid_list = list()\n",
    "SnSp95_valid_list = list()\n",
    "SnSp99_valid_list = list()\n",
    "for i in range(10):\n",
    "    model = GaussianNB()\n",
    "\n",
    "    model.fit(x_train_m1_list[i],y_train_m1_list[i].ravel())\n",
    "\n",
    "    torch.save(model,f\"./Model/m1_GN_{i+1}.hdf5\")\n",
    "\n",
    "    model = torch.load(f\"./Model/m1_GN_{i+1}.hdf5\")\n",
    "\n",
    "    y_pred = model.predict_proba(x_test_m1)[:,1]\n",
    "    y_true = y_test_m1[:,0]\n",
    "    auc_test = tf.metrics.AUC(1000)(y_true,y_pred)\n",
    "    SnSp90_test = tf.metrics.SensitivityAtSpecificity(0.9)(y_true,y_pred)\n",
    "    SnSp95_test = tf.metrics.SensitivityAtSpecificity(0.95)(y_true,y_pred)\n",
    "    SnSp99_test = tf.metrics.SensitivityAtSpecificity(0.99)(y_true,y_pred)\n",
    "    auc_test_list.append(auc_test)\n",
    "    SnSp90_test_list.append(SnSp90_test)\n",
    "    SnSp95_test_list.append(SnSp95_test)\n",
    "    SnSp99_test_list.append(SnSp99_test)\n",
    "    \n",
    "    y_pred = model.predict_proba(x_valid_m1_list[i])[:,1]\n",
    "    y_true = y_valid_m1_list[i][:,0]\n",
    "    auc_valid = tf.metrics.AUC(1000)(y_true,y_pred)\n",
    "    SnSp90_valid = tf.metrics.SensitivityAtSpecificity(0.9)(y_true,y_pred)\n",
    "    SnSp95_valid = tf.metrics.SensitivityAtSpecificity(0.95)(y_true,y_pred)\n",
    "    SnSp99_valid = tf.metrics.SensitivityAtSpecificity(0.99)(y_true,y_pred)\n",
    "    auc_valid_list.append(auc_valid)\n",
    "    SnSp90_valid_list.append(SnSp90_valid)\n",
    "    SnSp95_valid_list.append(SnSp95_valid)\n",
    "    SnSp99_valid_list.append(SnSp99_valid)"
   ]
  },
  {
   "cell_type": "code",
   "execution_count": null,
   "id": "59ea01ee",
   "metadata": {},
   "outputs": [],
   "source": [
    "print(\"test:AUC, Sn(Sp=0.9), Sn(Sp=0.95), Sn(Sp=0.99)\")    \n",
    "for i in range(10):\n",
    "    print(\"%5.3f %5.3f %5.3f %5.3f\"%(\n",
    "        auc_test_list[i],SnSp90_test_list[i],SnSp95_test_list[i],SnSp99_test_list[i]\n",
    "    ))\n",
    "\n",
    "print(\"valid:AUC, Sn(Sp=0.9), Sn(Sp=0.95), Sn(Sp=0.99)\")  \n",
    "for i in range(10):      \n",
    "    print(\"%5.3f %5.3f %5.3f %5.3f\"%(\n",
    "        auc_valid_list[i],SnSp90_valid_list[i],SnSp95_valid_list[i],SnSp99_valid_list[i]\n",
    "    ))\n",
    "\n",
    "print(\"test:AUC, Sn(Sp=0.9), Sn(Sp=0.95), Sn(Sp=0.99)\")\n",
    "print(np.mean(auc_test_list),np.mean(SnSp90_test_list),np.mean(SnSp95_test_list),np.mean(SnSp99_test_list))  \n",
    "print(\"valid:AUC, Sn(Sp=0.9), Sn(Sp=0.95), Sn(Sp=0.99)\")  \n",
    "print(np.mean(auc_valid_list),np.mean(SnSp90_valid_list),np.mean(SnSp95_valid_list),np.mean(SnSp99_valid_list))"
   ]
  },
  {
   "cell_type": "markdown",
   "id": "6addb9fc",
   "metadata": {},
   "source": [
    "## DecisionTreeClassifier"
   ]
  },
  {
   "cell_type": "code",
   "execution_count": null,
   "id": "3ebf6976",
   "metadata": {},
   "outputs": [],
   "source": [
    "auc_test_list = list()\n",
    "SnSp90_test_list = list()\n",
    "SnSp95_test_list = list()\n",
    "SnSp99_test_list = list()\n",
    "\n",
    "auc_valid_list = list()\n",
    "SnSp90_valid_list = list()\n",
    "SnSp95_valid_list = list()\n",
    "SnSp99_valid_list = list()\n",
    "for i in range(10):\n",
    "    model = DecisionTreeClassifier()\n",
    "\n",
    "    model.fit(x_train_m1_list[i],y_train_m1_list[i].ravel())\n",
    "\n",
    "    torch.save(model,f\"./Model/m1_DT_{i+1}.hdf5\")\n",
    "\n",
    "    model = torch.load(f\"./Model/m1_DT_{i+1}.hdf5\")\n",
    "\n",
    "    y_pred = model.predict_proba(x_test_m1)[:,1]\n",
    "    y_true = y_test_m1[:,0]\n",
    "    auc_test = tf.metrics.AUC(1000)(y_true,y_pred)\n",
    "    SnSp90_test = tf.metrics.SensitivityAtSpecificity(0.9)(y_true,y_pred)\n",
    "    SnSp95_test = tf.metrics.SensitivityAtSpecificity(0.95)(y_true,y_pred)\n",
    "    SnSp99_test = tf.metrics.SensitivityAtSpecificity(0.99)(y_true,y_pred)\n",
    "    auc_test_list.append(auc_test)\n",
    "    SnSp90_test_list.append(SnSp90_test)\n",
    "    SnSp95_test_list.append(SnSp95_test)\n",
    "    SnSp99_test_list.append(SnSp99_test)\n",
    "    \n",
    "    y_pred = model.predict_proba(x_valid_m1_list[i])[:,1]\n",
    "    y_true = y_valid_m1_list[i][:,0]\n",
    "    auc_valid = tf.metrics.AUC(1000)(y_true,y_pred)\n",
    "    SnSp90_valid = tf.metrics.SensitivityAtSpecificity(0.9)(y_true,y_pred)\n",
    "    SnSp95_valid = tf.metrics.SensitivityAtSpecificity(0.95)(y_true,y_pred)\n",
    "    SnSp99_valid = tf.metrics.SensitivityAtSpecificity(0.99)(y_true,y_pred)\n",
    "    auc_valid_list.append(auc_valid)\n",
    "    SnSp90_valid_list.append(SnSp90_valid)\n",
    "    SnSp95_valid_list.append(SnSp95_valid)\n",
    "    SnSp99_valid_list.append(SnSp99_valid)"
   ]
  },
  {
   "cell_type": "code",
   "execution_count": null,
   "id": "15a650b0",
   "metadata": {},
   "outputs": [],
   "source": [
    "print(\"test:AUC, Sn(Sp=0.9), Sn(Sp=0.95), Sn(Sp=0.99)\")    \n",
    "for i in range(10):\n",
    "    print(\"%5.3f %5.3f %5.3f %5.3f\"%(\n",
    "        auc_test_list[i],SnSp90_test_list[i],SnSp95_test_list[i],SnSp99_test_list[i]\n",
    "    ))\n",
    "\n",
    "print(\"valid:AUC, Sn(Sp=0.9), Sn(Sp=0.95), Sn(Sp=0.99)\")  \n",
    "for i in range(10):      \n",
    "    print(\"%5.3f %5.3f %5.3f %5.3f\"%(\n",
    "        auc_valid_list[i],SnSp90_valid_list[i],SnSp95_valid_list[i],SnSp99_valid_list[i]\n",
    "    ))\n",
    "\n",
    "print(\"test:AUC, Sn(Sp=0.9), Sn(Sp=0.95), Sn(Sp=0.99)\")\n",
    "print(np.mean(auc_test_list),np.mean(SnSp90_test_list),np.mean(SnSp95_test_list),np.mean(SnSp99_test_list))  \n",
    "print(\"valid:AUC, Sn(Sp=0.9), Sn(Sp=0.95), Sn(Sp=0.99)\")  \n",
    "print(np.mean(auc_valid_list),np.mean(SnSp90_valid_list),np.mean(SnSp95_valid_list),np.mean(SnSp99_valid_list))"
   ]
  },
  {
   "cell_type": "markdown",
   "id": "d6add2ff",
   "metadata": {},
   "source": [
    "## BaggingClassifier"
   ]
  },
  {
   "cell_type": "code",
   "execution_count": null,
   "id": "863afe02",
   "metadata": {},
   "outputs": [],
   "source": [
    "auc_test_list = list()\n",
    "SnSp90_test_list = list()\n",
    "SnSp95_test_list = list()\n",
    "SnSp99_test_list = list()\n",
    "\n",
    "auc_valid_list = list()\n",
    "SnSp90_valid_list = list()\n",
    "SnSp95_valid_list = list()\n",
    "SnSp99_valid_list = list()\n",
    "for i in range(10):\n",
    "    model = BaggingClassifier()\n",
    "\n",
    "    model.fit(x_train_m1_list[i],y_train_m1_list[i].ravel())\n",
    "\n",
    "    torch.save(model,f\"./Model/m1_BC_{i+1}.hdf5\")\n",
    "\n",
    "    model = torch.load(f\"./Model/m1_BC_{i+1}.hdf5\")\n",
    "\n",
    "    y_pred = model.predict_proba(x_test_m1)[:,1]\n",
    "    y_true = y_test_m1[:,0]\n",
    "    auc_test = tf.metrics.AUC(1000)(y_true,y_pred)\n",
    "    SnSp90_test = tf.metrics.SensitivityAtSpecificity(0.9)(y_true,y_pred)\n",
    "    SnSp95_test = tf.metrics.SensitivityAtSpecificity(0.95)(y_true,y_pred)\n",
    "    SnSp99_test = tf.metrics.SensitivityAtSpecificity(0.99)(y_true,y_pred)\n",
    "    auc_test_list.append(auc_test)\n",
    "    SnSp90_test_list.append(SnSp90_test)\n",
    "    SnSp95_test_list.append(SnSp95_test)\n",
    "    SnSp99_test_list.append(SnSp99_test)\n",
    "    \n",
    "    y_pred = model.predict_proba(x_valid_m1_list[i])[:,1]\n",
    "    y_true = y_valid_m1_list[i][:,0]\n",
    "    auc_valid = tf.metrics.AUC(1000)(y_true,y_pred)\n",
    "    SnSp90_valid = tf.metrics.SensitivityAtSpecificity(0.9)(y_true,y_pred)\n",
    "    SnSp95_valid = tf.metrics.SensitivityAtSpecificity(0.95)(y_true,y_pred)\n",
    "    SnSp99_valid = tf.metrics.SensitivityAtSpecificity(0.99)(y_true,y_pred)\n",
    "    auc_valid_list.append(auc_valid)\n",
    "    SnSp90_valid_list.append(SnSp90_valid)\n",
    "    SnSp95_valid_list.append(SnSp95_valid)\n",
    "    SnSp99_valid_list.append(SnSp99_valid)"
   ]
  },
  {
   "cell_type": "code",
   "execution_count": null,
   "id": "48cd7df2",
   "metadata": {},
   "outputs": [],
   "source": [
    "print(\"test:AUC, Sn(Sp=0.9), Sn(Sp=0.95), Sn(Sp=0.99)\")    \n",
    "for i in range(10):\n",
    "    print(\"%5.3f %5.3f %5.3f %5.3f\"%(\n",
    "        auc_test_list[i],SnSp90_test_list[i],SnSp95_test_list[i],SnSp99_test_list[i]\n",
    "    ))\n",
    "\n",
    "print(\"valid:AUC, Sn(Sp=0.9), Sn(Sp=0.95), Sn(Sp=0.99)\")  \n",
    "for i in range(10):      \n",
    "    print(\"%5.3f %5.3f %5.3f %5.3f\"%(\n",
    "        auc_valid_list[i],SnSp90_valid_list[i],SnSp95_valid_list[i],SnSp99_valid_list[i]\n",
    "    ))\n",
    "\n",
    "print(\"test:AUC, Sn(Sp=0.9), Sn(Sp=0.95), Sn(Sp=0.99)\")\n",
    "print(np.mean(auc_test_list),np.mean(SnSp90_test_list),np.mean(SnSp95_test_list),np.mean(SnSp99_test_list))  \n",
    "print(\"valid:AUC, Sn(Sp=0.9), Sn(Sp=0.95), Sn(Sp=0.99)\")  \n",
    "print(np.mean(auc_valid_list),np.mean(SnSp90_valid_list),np.mean(SnSp95_valid_list),np.mean(SnSp99_valid_list))"
   ]
  },
  {
   "cell_type": "markdown",
   "id": "ac54fd30",
   "metadata": {},
   "source": [
    "## LogisticRegression"
   ]
  },
  {
   "cell_type": "code",
   "execution_count": null,
   "id": "e9d57546",
   "metadata": {},
   "outputs": [],
   "source": [
    "auc_test_list = list()\n",
    "SnSp90_test_list = list()\n",
    "SnSp95_test_list = list()\n",
    "SnSp99_test_list = list()\n",
    "\n",
    "auc_valid_list = list()\n",
    "SnSp90_valid_list = list()\n",
    "SnSp95_valid_list = list()\n",
    "SnSp99_valid_list = list()\n",
    "for i in range(10):\n",
    "    model = LogisticRegression(max_iter=1000)\n",
    "\n",
    "    model.fit(x_train_m1_list[i],y_train_m1_list[i].ravel())\n",
    "\n",
    "    torch.save(model,f\"./Model/m1_LR_{i+1}.hdf5\")\n",
    "\n",
    "    model = torch.load(f\"./Model/m1_LR_{i+1}.hdf5\")\n",
    "\n",
    "    y_pred = model.predict_proba(x_test_m1)[:,1]\n",
    "    y_true = y_test_m1[:,0]\n",
    "    auc_test = tf.metrics.AUC(1000)(y_true,y_pred)\n",
    "    SnSp90_test = tf.metrics.SensitivityAtSpecificity(0.9)(y_true,y_pred)\n",
    "    SnSp95_test = tf.metrics.SensitivityAtSpecificity(0.95)(y_true,y_pred)\n",
    "    SnSp99_test = tf.metrics.SensitivityAtSpecificity(0.99)(y_true,y_pred)\n",
    "    auc_test_list.append(auc_test)\n",
    "    SnSp90_test_list.append(SnSp90_test)\n",
    "    SnSp95_test_list.append(SnSp95_test)\n",
    "    SnSp99_test_list.append(SnSp99_test)\n",
    "    \n",
    "    y_pred = model.predict_proba(x_valid_m1_list[i])[:,1]\n",
    "    y_true = y_valid_m1_list[i][:,0]\n",
    "    auc_valid = tf.metrics.AUC(1000)(y_true,y_pred)\n",
    "    SnSp90_valid = tf.metrics.SensitivityAtSpecificity(0.9)(y_true,y_pred)\n",
    "    SnSp95_valid = tf.metrics.SensitivityAtSpecificity(0.95)(y_true,y_pred)\n",
    "    SnSp99_valid = tf.metrics.SensitivityAtSpecificity(0.99)(y_true,y_pred)\n",
    "    auc_valid_list.append(auc_valid)\n",
    "    SnSp90_valid_list.append(SnSp90_valid)\n",
    "    SnSp95_valid_list.append(SnSp95_valid)\n",
    "    SnSp99_valid_list.append(SnSp99_valid)"
   ]
  },
  {
   "cell_type": "code",
   "execution_count": null,
   "id": "b5bf722f",
   "metadata": {},
   "outputs": [],
   "source": [
    "print(\"test:AUC, Sn(Sp=0.9), Sn(Sp=0.95), Sn(Sp=0.99)\")    \n",
    "for i in range(10):\n",
    "    print(\"%5.3f %5.3f %5.3f %5.3f\"%(\n",
    "        auc_test_list[i],SnSp90_test_list[i],SnSp95_test_list[i],SnSp99_test_list[i]\n",
    "    ))\n",
    "\n",
    "print(\"valid:AUC, Sn(Sp=0.9), Sn(Sp=0.95), Sn(Sp=0.99)\")  \n",
    "for i in range(10):      \n",
    "    print(\"%5.3f %5.3f %5.3f %5.3f\"%(\n",
    "        auc_valid_list[i],SnSp90_valid_list[i],SnSp95_valid_list[i],SnSp99_valid_list[i]\n",
    "    ))\n",
    "\n",
    "print(\"test:AUC, Sn(Sp=0.9), Sn(Sp=0.95), Sn(Sp=0.99)\")\n",
    "print(np.mean(auc_test_list),np.mean(SnSp90_test_list),np.mean(SnSp95_test_list),np.mean(SnSp99_test_list))  \n",
    "print(\"valid:AUC, Sn(Sp=0.9), Sn(Sp=0.95), Sn(Sp=0.99)\")  \n",
    "print(np.mean(auc_valid_list),np.mean(SnSp90_valid_list),np.mean(SnSp95_valid_list),np.mean(SnSp99_valid_list))"
   ]
  },
  {
   "cell_type": "markdown",
   "id": "9d9c65c7",
   "metadata": {},
   "source": [
    "# 数据集构建"
   ]
  },
  {
   "cell_type": "code",
   "execution_count": 3,
   "id": "13155838",
   "metadata": {
    "ExecuteTime": {
     "end_time": "2021-05-05T04:48:02.751539Z",
     "start_time": "2021-05-05T04:47:57.397572Z"
    }
   },
   "outputs": [
    {
     "name": "stdout",
     "output_type": "stream",
     "text": [
      "ERROR! Session/line number was not unique in database. History logging moved to new session 395\n"
     ]
    }
   ],
   "source": [
    "df_1 = pd.read_csv(\"Methylation_site_dataset\",sep='\\t',header=2)\n",
    "\n",
    "#df_2 = pd.read_csv(\"Methylation.txt\",sep='\\t',header=None)\n",
    "\n",
    "df_1.query(\"ORGANISM=='human'\",inplace=True)\n",
    "\n",
    "df_1 = df_1[df_1.MOD_RSD.str[0]==\"R\"].copy()\n",
    "\n",
    "df_1[\"Position\"] = df_1.MOD_RSD.str.split(\"-\").str[0].str[1:].astype(int)\n",
    "\n",
    "df_1[\"Type\"] = df_1.MOD_RSD.str.split(\"-\").str[1]\n",
    "\n",
    "df_1[\"SeqWin\"] = df_1[\"SITE_+/-7_AA\"].str.upper()\n",
    "\n",
    "df_1 = df_1[[\"ACC_ID\",\"Position\",\"Type\",\"SeqWin\"]].copy()\n",
    "\n",
    "df_1.Type.value_counts()\n",
    "\n",
    "with open('uniprot_sp_isoform.fasta') as f:\n",
    "    text = f.read()\n",
    "\n",
    "p1 = re.compile(\"^>\", re.M)\n",
    "\n",
    "p2 = re.compile(\"^>\\w\\w\\|(.+?)\\|\", re.M)\n",
    "\n",
    "Entry = p2.findall(text)\n",
    "\n",
    "Sequence = [\"\".join(i.split(\"\\n\")[1:]) for i in text.split(\"\\n>\")]\n",
    "\n",
    "df_uniprot = pd.DataFrame(dict(Entry=Entry,Sequence=Sequence))\n",
    "\n",
    "df_uniprot\n",
    "\n",
    "df_1 = df_1.merge(df_uniprot,left_on=\"ACC_ID\",right_on=\"Entry\")\n",
    "\n",
    "df_1 = df_1[[\"Entry\",\"Position\",\"Type\",\"SeqWin\",\"Sequence\"]].copy()\n",
    "\n",
    "def F_pad(seq,n=30):\n",
    "    return \"_\"*n+seq+\"_\"*n\n",
    "\n",
    "df_1.Sequence.apply(F_pad)\n",
    "\n",
    "df_1.SeqWin.str.len().unique()\n",
    "\n",
    "df_1.apply(lambda x:F_pad(x.Sequence,7).find(x.SeqWin),1)\n",
    "\n",
    "df_1 = df_1[df_1.apply(lambda x:F_pad(x.Sequence,7).find(x.SeqWin)==x.Position-1,1)].copy()\n",
    "\n",
    "df_1.SeqWin = df_1.apply(lambda x:F_pad(x.Sequence,25)[x.Position-1:x.Position+25*2],1)\n",
    "\n",
    "set().issubset(set())\n",
    "\n",
    "AAs = ['Q', 'L', 'N', 'G', 'R', 'F', 'W', 'T', 'E', 'K', 'I', 'D', 'V', 'Y', 'S', 'A', 'C', 'M', 'H', 'P']\n",
    "\n",
    "df_1 = df_1[df_1.Sequence.apply(lambda x: set(x).issubset(AAs))].copy()\n",
    "\n",
    "Pos_SeqWin_R = df_1.SeqWin\n",
    "\n",
    "SeqWin_R = list()\n",
    "for seq in df_1.Sequence:\n",
    "    seq = F_pad(seq)\n",
    "    for i,AA in enumerate(seq):\n",
    "        if AA==\"R\":\n",
    "            SeqWin_R.append(seq[i-25:i+1+25])\n",
    "\n",
    "\n",
    "\n",
    "All_SeqWin_R = pd.Series(SeqWin_R).drop_duplicates()\n",
    "\n",
    "Neg_SeqWin_R = All_SeqWin_R[~All_SeqWin_R.isin(Pos_SeqWin_R)]"
   ]
  },
  {
   "cell_type": "code",
   "execution_count": 4,
   "id": "8476a3fa",
   "metadata": {
    "ExecuteTime": {
     "end_time": "2021-05-05T04:52:13.204855Z",
     "start_time": "2021-05-05T04:51:31.301520Z"
    }
   },
   "outputs": [
    {
     "name": "stdout",
     "output_type": "stream",
     "text": [
      "ERROR! Session/line number was not unique in database. History logging moved to new session 398\n"
     ]
    }
   ],
   "source": [
    "Neg_SeqWin_R.to_csv(\"./temp/Neg_SeqWin_R\")\n",
    "\n",
    "Neg_SeqWin_R = pd.read_csv(\"./temp/Neg_SeqWin_R\")[\"0\"]\n",
    "\n",
    "Neg_SeqWin_R\n",
    "\n",
    "df_data_neg = Neg_SeqWin_R.apply(lambda x: pd.Series(list(x))).replace(AAs+[\"_\"],range(21))\n",
    "\n",
    "df_data_neg[\"label\"] = 0\n",
    "\n",
    "df_data_neg = df_data_neg.sample(80000,random_state=2021)"
   ]
  },
  {
   "cell_type": "code",
   "execution_count": 5,
   "id": "45f92f3a",
   "metadata": {
    "ExecuteTime": {
     "end_time": "2021-05-05T04:52:15.567310Z",
     "start_time": "2021-05-05T04:52:13.206623Z"
    }
   },
   "outputs": [
    {
     "data": {
      "text/plain": [
       "array([[20, 20, 20, ...,  9,  9,  1],\n",
       "       [11,  9, 18, ..., 15, 15,  1],\n",
       "       [15,  8,  4, ..., 10,  8,  1],\n",
       "       ...,\n",
       "       [11,  4, 11, ...,  4,  8,  0],\n",
       "       [15,  3, 12, ..., 10,  8,  0],\n",
       "       [ 8, 19, 19, ...,  4,  4,  0]], dtype=int64)"
      ]
     },
     "execution_count": 5,
     "metadata": {},
     "output_type": "execute_result"
    }
   ],
   "source": [
    "df_1_m1 = df_1.query(\"Type=='m1'\")\n",
    "\n",
    "df_data_m1 = df_1_m1.SeqWin.drop_duplicates().apply(lambda x: pd.Series(list(x))).replace(AAs+[\"_\"],range(21))\n",
    "\n",
    "df_data_m1[\"label\"] = 1\n",
    "\n",
    "df_data_m1\n",
    "\n",
    "\n",
    "df_1_m2 = df_1.query(\"Type=='m2'\")\n",
    "\n",
    "df_data_m2 = df_1_m2.SeqWin.drop_duplicates().apply(lambda x: pd.Series(list(x))).replace(AAs+[\"_\"],range(21))\n",
    "\n",
    "df_data_m2[\"label\"] = 1\n",
    "\n",
    "df_data_m2\n",
    "\n",
    "\n",
    "df_data_train_m1 = pd.concat([df_data_m1,df_data_neg[:40000]])\n",
    "\n",
    "df_data_train_m2 = pd.concat([df_data_m2,df_data_neg[40000:]])\n",
    "\n",
    "data_train_m1 = df_data_train_m1.to_numpy()\n",
    "\n",
    "data_train_m2 = df_data_train_m2.to_numpy()\n",
    "\n",
    "data_train_me = np.concatenate([data_train_m1,data_train_m2])\n",
    "\n",
    "data_train_m1"
   ]
  },
  {
   "cell_type": "code",
   "execution_count": 6,
   "id": "02c10661",
   "metadata": {
    "ExecuteTime": {
     "end_time": "2021-05-05T04:52:16.794290Z",
     "start_time": "2021-05-05T04:52:15.569293Z"
    }
   },
   "outputs": [],
   "source": [
    "data_train_m1\n",
    "np.random.shuffle(data_train_m1)\n",
    "\n",
    "x_train_m1 = tf.one_hot(data_train_m1[:len(data_train_m1)//10*9][:,:51],21).numpy().reshape([-1,51*21])\n",
    "\n",
    "y_train_m1 = data_train_m1[:len(data_train_m1)//10*9][:,-1:]\n",
    "\n",
    "x_test_m1 = tf.one_hot(data_train_m1[len(data_train_m1)//10*9:][:,:51],21).numpy().reshape([-1,51*21])\n",
    "\n",
    "y_test_m1 = data_train_m1[len(data_train_m1)//10*9:][:,-1:]\n",
    "\n",
    "data_train_m2\n",
    "np.random.shuffle(data_train_m2)\n",
    "\n",
    "x_train_m2 = tf.one_hot(data_train_m2[:len(data_train_m2)//10*9][:,:51],21).numpy().reshape([-1,51*21])\n",
    "\n",
    "y_train_m2 = data_train_m2[:len(data_train_m2)//10*9][:,-1:]\n",
    "\n",
    "x_test_m2 = tf.one_hot(data_train_m2[len(data_train_m2)//10*9:][:,:51],21).numpy().reshape([-1,51*21])\n",
    "\n",
    "y_test_m2 = data_train_m2[len(data_train_m2)//10*9:][:,-1:]\n",
    "\n",
    "data_train_me\n",
    "np.random.shuffle(data_train_me)\n",
    "\n",
    "x_train_me = tf.one_hot(data_train_me[:len(data_train_me)//10*9][:,:51],21).numpy().reshape([-1,51*21])\n",
    "\n",
    "y_train_me = data_train_me[:len(data_train_me)//10*9][:,-1:]\n",
    "\n",
    "x_test_me = tf.one_hot(data_train_me[len(data_train_me)//10*9:][:,:51],21).numpy().reshape([-1,51*21])\n",
    "\n",
    "y_test_me = data_train_me[len(data_train_me)//10*9:][:,-1:]"
   ]
  },
  {
   "cell_type": "code",
   "execution_count": 5,
   "id": "2c5a0983",
   "metadata": {
    "ExecuteTime": {
     "end_time": "2021-05-06T02:46:45.863958Z",
     "start_time": "2021-05-06T02:46:44.653356Z"
    }
   },
   "outputs": [
    {
     "name": "stdout",
     "output_type": "stream",
     "text": [
      "ERROR! Session/line number was not unique in database. History logging moved to new session 464\n"
     ]
    }
   ],
   "source": [
    "#torch.save([x_train_m1,y_train_m1,x_train_m2,y_train_m2,x_train_me,y_train_me],\"./temp/x_train_m1\")\n",
    "\n",
    "x_train_m1,y_train_m1,x_train_m2,y_train_m2,x_train_me,y_train_me = torch.load(\"./temp/x_train_m1\")\n",
    "\n",
    "#torch.save([x_test_m1,y_test_m1,x_test_m2,y_test_m2,x_test_me,y_test_me],\"./temp/x_test_m1\")\n",
    "\n",
    "x_test_m1,y_test_m1,x_test_m2,y_test_m2,x_test_me,y_test_me = torch.load(\"./temp/x_test_m1\")"
   ]
  },
  {
   "cell_type": "code",
   "execution_count": 3,
   "id": "192e34dd",
   "metadata": {
    "ExecuteTime": {
     "end_time": "2021-05-06T02:46:18.338319Z",
     "start_time": "2021-05-06T02:46:17.874936Z"
    }
   },
   "outputs": [],
   "source": [
    "x_train_m1_list = list()\n",
    "x_valid_m1_list = list()\n",
    "\n",
    "Len = x_train_m1.shape[0]//10\n",
    "\n",
    "for i in range(10):\n",
    "    x_valid_m1_list.append(x_train_m1[Len*i:Len*(i+1)])\n",
    "    x_train_m1_list.append(x_train_m1[np.r_[0:Len*i,Len*(i+1):Len*10]])\n",
    "    \n",
    "y_train_m1_list = list()\n",
    "y_valid_m1_list = list()\n",
    "\n",
    "Len = y_train_m1.shape[0]//10\n",
    "\n",
    "for i in range(10):\n",
    "    y_valid_m1_list.append(y_train_m1[Len*i:Len*(i+1)])\n",
    "    y_train_m1_list.append(y_train_m1[np.r_[0:Len*i,Len*(i+1):Len*10]])"
   ]
  },
  {
   "cell_type": "markdown",
   "id": "c250f543",
   "metadata": {},
   "source": [
    "# 测试集去除与训练集冗余度40%"
   ]
  },
  {
   "cell_type": "code",
   "execution_count": null,
   "id": "1885d1fe",
   "metadata": {},
   "outputs": [],
   "source": [
    "temp1 = pd.DataFrame(x_train_m1[y_train_m1[:,0]==1].reshape([-1,51,21]).argmax(2)).replace(np.arange(21),AAs+[\"_\"])\n",
    "\n",
    "temp2 = temp1.apply(lambda x: \"\".join(x),1)\n",
    "\n",
    "with open(\"/home/zgy/Downloads/iFeature-master/examples/Arginine/x_train_m1_peptide_pos.txt\",\"w\") as f:\n",
    "    s = \"\\n\".join(\">\"+temp2.index.to_series().apply(str)+\"\\n\"+temp2)\n",
    "    #f.write(s)\n",
    "\n",
    "temp1 = pd.DataFrame(x_test_m1[y_test_m1[:,0]==1].reshape([-1,51,21]).argmax(2)).replace(np.arange(21),AAs+[\"_\"])\n",
    "\n",
    "temp2 = temp1.apply(lambda x: \"\".join(x),1)\n",
    "\n",
    "with open(\"/home/zgy/Downloads/iFeature-master/examples/Arginine/x_test_m1_peptide_pos.txt\",\"w\") as f:\n",
    "    s = \"\\n\".join(\">\"+temp2.index.to_series().apply(str)+\"\\n\"+temp2)\n",
    "    #f.write(s)"
   ]
  },
  {
   "cell_type": "code",
   "execution_count": 6,
   "id": "9c5949e8",
   "metadata": {
    "ExecuteTime": {
     "end_time": "2021-05-06T02:46:49.882422Z",
     "start_time": "2021-05-06T02:46:49.828197Z"
    }
   },
   "outputs": [],
   "source": [
    "with open(\"./1618532184.fas.db2novel.clstr.sorted\") as f:\n",
    "    cluster = f.read()\n",
    "\n",
    "redundancy = [int(k) for k in \"_\".join([\"_\".join([j.split(\">\")[1].split(\"...\")[0] for j in i.split(\"\\n\")[2:-1]]) for i in cluster.split(\">Cluster\")[1:]][:3014]).split(\"_\")]\n",
    "\n",
    "nonredundancy = pd.Series(np.arange(len(x_test_m1)))[~pd.Series(np.arange(len(x_test_m1))).isin(redundancy)].to_numpy()"
   ]
  },
  {
   "cell_type": "markdown",
   "id": "61f72853",
   "metadata": {},
   "source": [
    "# DL改良版 类别权重1：5"
   ]
  },
  {
   "cell_type": "code",
   "execution_count": null,
   "id": "c683d5e8",
   "metadata": {},
   "outputs": [],
   "source": [
    "ModelCheckpoints = list()\n",
    "for i in range(10):\n",
    "    ModelCheckpoint = tf.keras.callbacks.ModelCheckpoint(filepath=\"./Simple_DNN/%02d/{epoch:03d}-{val_auc:.3f}.hdf5\"%(i+1),monitor=\"val_auc\",save_weights_only=True,)\n",
    "    ModelCheckpoints.append(ModelCheckpoint)\n",
    "\n",
    "for i in range(10):\n",
    "    tf.keras.backend.clear_session()\n",
    "    tf.random.set_seed(2021)\n",
    "    model = Model()\n",
    "    history = model.fit(x_train_m1_list[i],y_train_m1_list[i],512,100,2\n",
    "              ,validation_data=[x_valid_m1_list[i],y_valid_m1_list[i]]\n",
    "              ,class_weight={1:1,0:1/5}\n",
    "              ,callbacks=[ModelCheckpoints[i]]\n",
    "             )\n"
   ]
  },
  {
   "cell_type": "code",
   "execution_count": null,
   "id": "ef14d102",
   "metadata": {},
   "outputs": [],
   "source": [
    "auc_test_list = list()\n",
    "SnSp90_test_list = list()\n",
    "SnSp95_test_list = list()\n",
    "SnSp99_test_list = list()\n",
    "\n",
    "auc_test_list_non = list()\n",
    "SnSp90_test_list_non = list()\n",
    "SnSp95_test_list_non = list()\n",
    "SnSp99_test_list_non = list()\n",
    "\n",
    "auc_valid_list = list()\n",
    "SnSp90_valid_list = list()\n",
    "SnSp95_valid_list = list()\n",
    "SnSp99_valid_list = list()\n",
    "for i in range(10):\n",
    "    model = Model()\n",
    "    model.build((None,51*21))\n",
    "    tf.keras.backend.clear_session()\n",
    "    Se_1 = pd.Series(os.listdir(\"./Simple_DNN/%02d\"%(i+1)))\n",
    "    path = \"./Simple_DNN/%02d/\"%(i+1)+Se_1[Se_1.str.split(\"-\").str[0]==\"100\"].values[0]\n",
    "    \n",
    "    model.load_weights(path)\n",
    "\n",
    "    y_pred = model.predict(x_test_m1)[:,0]\n",
    "    y_true = y_test_m1[:,0]\n",
    "    auc_test = tf.metrics.AUC(1000)(y_true,y_pred)\n",
    "    SnSp90_test = tf.metrics.SensitivityAtSpecificity(0.9)(y_true,y_pred)\n",
    "    SnSp95_test = tf.metrics.SensitivityAtSpecificity(0.95)(y_true,y_pred)\n",
    "    SnSp99_test = tf.metrics.SensitivityAtSpecificity(0.99)(y_true,y_pred)\n",
    "    auc_test_list.append(auc_test)\n",
    "    SnSp90_test_list.append(SnSp90_test)\n",
    "    SnSp95_test_list.append(SnSp95_test)\n",
    "    SnSp99_test_list.append(SnSp99_test)\n",
    "    \n",
    "    y_pred = model.predict(x_test_m1[nonredundancy])[:,0]\n",
    "    y_true = y_test_m1[nonredundancy][:,0]\n",
    "    auc_test = tf.metrics.AUC(1000)(y_true,y_pred)\n",
    "    SnSp90_test = tf.metrics.SensitivityAtSpecificity(0.9)(y_true,y_pred)\n",
    "    SnSp95_test = tf.metrics.SensitivityAtSpecificity(0.95)(y_true,y_pred)\n",
    "    SnSp99_test = tf.metrics.SensitivityAtSpecificity(0.99)(y_true,y_pred)\n",
    "    auc_test_list_non.append(auc_test)\n",
    "    SnSp90_test_list_non.append(SnSp90_test)\n",
    "    SnSp95_test_list_non.append(SnSp95_test)\n",
    "    SnSp99_test_list_non.append(SnSp99_test)\n",
    "    \n",
    "    y_pred = model.predict(x_valid_m1_list[i])[:,0]\n",
    "    y_true = y_valid_m1_list[i][:,0]\n",
    "    auc_valid = tf.metrics.AUC(1000)(y_true,y_pred)\n",
    "    SnSp90_valid = tf.metrics.SensitivityAtSpecificity(0.9)(y_true,y_pred)\n",
    "    SnSp95_valid = tf.metrics.SensitivityAtSpecificity(0.95)(y_true,y_pred)\n",
    "    SnSp99_valid = tf.metrics.SensitivityAtSpecificity(0.99)(y_true,y_pred)\n",
    "    auc_valid_list.append(auc_valid)\n",
    "    SnSp90_valid_list.append(SnSp90_valid)\n",
    "    SnSp95_valid_list.append(SnSp95_valid)\n",
    "    SnSp99_valid_list.append(SnSp99_valid)"
   ]
  },
  {
   "cell_type": "code",
   "execution_count": null,
   "id": "067ca2fd",
   "metadata": {},
   "outputs": [],
   "source": [
    "print(\"test:AUC, Sn(Sp=0.9), Sn(Sp=0.95), Sn(Sp=0.99)\")    \n",
    "for i in range(10):\n",
    "    print(\"%5.3f %5.3f %5.3f %5.3f\"%(\n",
    "        auc_test_list[i],SnSp90_test_list[i],SnSp95_test_list[i],SnSp99_test_list[i]\n",
    "    ))\n",
    "    \n",
    "print(\"test_nonredundancy:AUC, Sn(Sp=0.9), Sn(Sp=0.95), Sn(Sp=0.99)\")    \n",
    "for i in range(10):\n",
    "    print(\"%5.3f %5.3f %5.3f %5.3f\"%(\n",
    "        auc_test_list_non[i],SnSp90_test_list_non[i],SnSp95_test_list_non[i],SnSp99_test_list_non[i]\n",
    "    ))\n",
    "\n",
    "print(\"valid:AUC, Sn(Sp=0.9), Sn(Sp=0.95), Sn(Sp=0.99)\")  \n",
    "for i in range(10):      \n",
    "    print(\"%5.3f %5.3f %5.3f %5.3f\"%(\n",
    "        auc_valid_list[i],SnSp90_valid_list[i],SnSp95_valid_list[i],SnSp99_valid_list[i]\n",
    "    ))\n"
   ]
  },
  {
   "cell_type": "code",
   "execution_count": 41,
   "id": "d7ef7af7",
   "metadata": {
    "ExecuteTime": {
     "end_time": "2021-05-05T06:02:30.476454Z",
     "start_time": "2021-05-05T06:02:29.040280Z"
    }
   },
   "outputs": [
    {
     "name": "stdout",
     "output_type": "stream",
     "text": [
      "test:AUC, Sn(Sp=0.9), Sn(Sp=0.95), Sn(Sp=0.99)\n",
      "0.865 0.643 0.474 0.231\n",
      "test_nonredundancy:AUC, Sn(Sp=0.9), Sn(Sp=0.95), Sn(Sp=0.99)\n",
      "0.872 0.668 0.493 0.221\n"
     ]
    }
   ],
   "source": [
    "model.load_weights(\"./Simple_DNN/000/100-0.865.hdf5\")\n",
    "\n",
    "y_pred = model.predict(x_test_m1)[:,0]\n",
    "y_true = y_test_m1[:,0]\n",
    "auc_test = tf.metrics.AUC(1000)(y_true,y_pred)\n",
    "SnSp90_test = tf.metrics.SensitivityAtSpecificity(0.9)(y_true,y_pred)\n",
    "SnSp95_test = tf.metrics.SensitivityAtSpecificity(0.95)(y_true,y_pred)\n",
    "SnSp99_test = tf.metrics.SensitivityAtSpecificity(0.99)(y_true,y_pred)\n",
    "\n",
    "y_pred = model.predict(x_test_m1[nonredundancy])[:,0]\n",
    "y_true = y_test_m1[nonredundancy][:,0]\n",
    "auc_test_non = tf.metrics.AUC(1000)(y_true,y_pred)\n",
    "SnSp90_test_non = tf.metrics.SensitivityAtSpecificity(0.9)(y_true,y_pred)\n",
    "SnSp95_test_non = tf.metrics.SensitivityAtSpecificity(0.95)(y_true,y_pred)\n",
    "SnSp99_test_non = tf.metrics.SensitivityAtSpecificity(0.99)(y_true,y_pred)\n",
    "\n",
    "print(\"test:AUC, Sn(Sp=0.9), Sn(Sp=0.95), Sn(Sp=0.99)\")   \n",
    "print(\"%5.3f %5.3f %5.3f %5.3f\"%(\n",
    "        auc_test,SnSp90_test,SnSp95_test,SnSp99_test\n",
    "    ))\n",
    "    \n",
    "print(\"test_nonredundancy:AUC, Sn(Sp=0.9), Sn(Sp=0.95), Sn(Sp=0.99)\")    \n",
    "for i in range(1):\n",
    "    print(\"%5.3f %5.3f %5.3f %5.3f\"%(\n",
    "        auc_test_non,SnSp90_test_non,SnSp95_test_non,SnSp99_test_non\n",
    "    ))"
   ]
  },
  {
   "cell_type": "markdown",
   "id": "a9887366",
   "metadata": {},
   "source": [
    "# DL改良版 类别权重1：1"
   ]
  },
  {
   "cell_type": "code",
   "execution_count": null,
   "id": "31860440",
   "metadata": {},
   "outputs": [],
   "source": [
    "ModelCheckpoints = list()\n",
    "for i in range(10):\n",
    "    ModelCheckpoint = tf.keras.callbacks.ModelCheckpoint(filepath=\"./Simple_DNN/wweight1_1/%02d/{epoch:03d}-{val_auc:.3f}.hdf5\"%(i+1),monitor=\"val_auc\",save_weights_only=True,)\n",
    "    ModelCheckpoints.append(ModelCheckpoint)\n",
    "\n",
    "for i in range(10):\n",
    "    tf.keras.backend.clear_session()\n",
    "    tf.random.set_seed(2021)\n",
    "    model = Model()\n",
    "    history = model.fit(x_train_m1_list[i],y_train_m1_list[i],512,100,2\n",
    "              ,validation_data=[x_valid_m1_list[i],y_valid_m1_list[i]]\n",
    "              #,class_weight={1:1,0:1/5}\n",
    "              ,callbacks=[ModelCheckpoints[i]]\n",
    "             )\n"
   ]
  },
  {
   "cell_type": "code",
   "execution_count": null,
   "id": "a98c1b19",
   "metadata": {},
   "outputs": [],
   "source": [
    "auc_test_list = list()\n",
    "SnSp90_test_list = list()\n",
    "SnSp95_test_list = list()\n",
    "SnSp99_test_list = list()\n",
    "\n",
    "auc_test_list_non = list()\n",
    "SnSp90_test_list_non = list()\n",
    "SnSp95_test_list_non = list()\n",
    "SnSp99_test_list_non = list()\n",
    "\n",
    "auc_valid_list = list()\n",
    "SnSp90_valid_list = list()\n",
    "SnSp95_valid_list = list()\n",
    "SnSp99_valid_list = list()\n",
    "for i in range(10):\n",
    "    model = Model()\n",
    "    model.build((None,51*21))\n",
    "    tf.keras.backend.clear_session()\n",
    "    Se_1 = pd.Series(os.listdir(\"./Simple_DNN/wweight1_1/%02d\"%(i+1)))\n",
    "    path = \"./Simple_DNN/wweight1_1/%02d/\"%(i+1)+Se_1[Se_1.str.split(\"-\").str[0]==\"100\"].values[0]\n",
    "    \n",
    "    model.load_weights(path)\n",
    "\n",
    "    y_pred = model.predict(x_test_m1)[:,0]\n",
    "    y_true = y_test_m1[:,0]\n",
    "    auc_test = tf.metrics.AUC(1000)(y_true,y_pred)\n",
    "    SnSp90_test = tf.metrics.SensitivityAtSpecificity(0.9)(y_true,y_pred)\n",
    "    SnSp95_test = tf.metrics.SensitivityAtSpecificity(0.95)(y_true,y_pred)\n",
    "    SnSp99_test = tf.metrics.SensitivityAtSpecificity(0.99)(y_true,y_pred)\n",
    "    auc_test_list.append(auc_test)\n",
    "    SnSp90_test_list.append(SnSp90_test)\n",
    "    SnSp95_test_list.append(SnSp95_test)\n",
    "    SnSp99_test_list.append(SnSp99_test)\n",
    "    \n",
    "    y_pred = model.predict(x_test_m1[nonredundancy])[:,0]\n",
    "    y_true = y_test_m1[nonredundancy][:,0]\n",
    "    auc_test = tf.metrics.AUC(1000)(y_true,y_pred)\n",
    "    SnSp90_test = tf.metrics.SensitivityAtSpecificity(0.9)(y_true,y_pred)\n",
    "    SnSp95_test = tf.metrics.SensitivityAtSpecificity(0.95)(y_true,y_pred)\n",
    "    SnSp99_test = tf.metrics.SensitivityAtSpecificity(0.99)(y_true,y_pred)\n",
    "    auc_test_list_non.append(auc_test)\n",
    "    SnSp90_test_list_non.append(SnSp90_test)\n",
    "    SnSp95_test_list_non.append(SnSp95_test)\n",
    "    SnSp99_test_list_non.append(SnSp99_test)\n",
    "    \n",
    "    y_pred = model.predict(x_valid_m1_list[i])[:,0]\n",
    "    y_true = y_valid_m1_list[i][:,0]\n",
    "    auc_valid = tf.metrics.AUC(1000)(y_true,y_pred)\n",
    "    SnSp90_valid = tf.metrics.SensitivityAtSpecificity(0.9)(y_true,y_pred)\n",
    "    SnSp95_valid = tf.metrics.SensitivityAtSpecificity(0.95)(y_true,y_pred)\n",
    "    SnSp99_valid = tf.metrics.SensitivityAtSpecificity(0.99)(y_true,y_pred)\n",
    "    auc_valid_list.append(auc_valid)\n",
    "    SnSp90_valid_list.append(SnSp90_valid)\n",
    "    SnSp95_valid_list.append(SnSp95_valid)\n",
    "    SnSp99_valid_list.append(SnSp99_valid)"
   ]
  },
  {
   "cell_type": "code",
   "execution_count": null,
   "id": "24218bc5",
   "metadata": {},
   "outputs": [],
   "source": [
    "print(\"test:AUC, Sn(Sp=0.9), Sn(Sp=0.95), Sn(Sp=0.99)\")    \n",
    "for i in range(10):\n",
    "    print(\"%5.3f %5.3f %5.3f %5.3f\"%(\n",
    "        auc_test_list[i],SnSp90_test_list[i],SnSp95_test_list[i],SnSp99_test_list[i]\n",
    "    ))\n",
    "    \n",
    "print(\"test_nonredundancy:AUC, Sn(Sp=0.9), Sn(Sp=0.95), Sn(Sp=0.99)\")    \n",
    "for i in range(10):\n",
    "    print(\"%5.3f %5.3f %5.3f %5.3f\"%(\n",
    "        auc_test_list_non[i],SnSp90_test_list_non[i],SnSp95_test_list_non[i],SnSp99_test_list_non[i]\n",
    "    ))\n",
    "\n",
    "print(\"valid:AUC, Sn(Sp=0.9), Sn(Sp=0.95), Sn(Sp=0.99)\")  \n",
    "for i in range(10):      \n",
    "    print(\"%5.3f %5.3f %5.3f %5.3f\"%(\n",
    "        auc_valid_list[i],SnSp90_valid_list[i],SnSp95_valid_list[i],SnSp99_valid_list[i]\n",
    "    ))\n"
   ]
  },
  {
   "cell_type": "code",
   "execution_count": 40,
   "id": "96bb30cf",
   "metadata": {
    "ExecuteTime": {
     "end_time": "2021-05-05T06:01:38.348349Z",
     "start_time": "2021-05-05T06:01:37.686251Z"
    }
   },
   "outputs": [
    {
     "name": "stdout",
     "output_type": "stream",
     "text": [
      "test:AUC, Sn(Sp=0.9), Sn(Sp=0.95), Sn(Sp=0.99)\n",
      "0.860 0.635 0.480 0.192\n",
      "test_nonredundancy:AUC, Sn(Sp=0.9), Sn(Sp=0.95), Sn(Sp=0.99)\n",
      "0.865 0.646 0.479 0.193\n"
     ]
    }
   ],
   "source": [
    "model.load_weights(\"./Simple_DNN/wweight1_1/000/100-0.860.hdf5\")\n",
    "\n",
    "y_pred = model.predict(x_test_m1)[:,0]\n",
    "y_true = y_test_m1[:,0]\n",
    "auc_test = tf.metrics.AUC(1000)(y_true,y_pred)\n",
    "SnSp90_test = tf.metrics.SensitivityAtSpecificity(0.9)(y_true,y_pred)\n",
    "SnSp95_test = tf.metrics.SensitivityAtSpecificity(0.95)(y_true,y_pred)\n",
    "SnSp99_test = tf.metrics.SensitivityAtSpecificity(0.99)(y_true,y_pred)\n",
    "\n",
    "y_pred = model.predict(x_test_m1[nonredundancy])[:,0]\n",
    "y_true = y_test_m1[nonredundancy][:,0]\n",
    "auc_test_non = tf.metrics.AUC(1000)(y_true,y_pred)\n",
    "SnSp90_test_non = tf.metrics.SensitivityAtSpecificity(0.9)(y_true,y_pred)\n",
    "SnSp95_test_non = tf.metrics.SensitivityAtSpecificity(0.95)(y_true,y_pred)\n",
    "SnSp99_test_non = tf.metrics.SensitivityAtSpecificity(0.99)(y_true,y_pred)\n",
    "\n",
    "print(\"test:AUC, Sn(Sp=0.9), Sn(Sp=0.95), Sn(Sp=0.99)\")   \n",
    "print(\"%5.3f %5.3f %5.3f %5.3f\"%(\n",
    "        auc_test,SnSp90_test,SnSp95_test,SnSp99_test\n",
    "    ))\n",
    "    \n",
    "print(\"test_nonredundancy:AUC, Sn(Sp=0.9), Sn(Sp=0.95), Sn(Sp=0.99)\")    \n",
    "for i in range(1):\n",
    "    print(\"%5.3f %5.3f %5.3f %5.3f\"%(\n",
    "        auc_test_non,SnSp90_test_non,SnSp95_test_non,SnSp99_test_non\n",
    "    ))"
   ]
  },
  {
   "cell_type": "markdown",
   "id": "93315b2e",
   "metadata": {},
   "source": [
    "# DL原始版 1：30"
   ]
  },
  {
   "cell_type": "code",
   "execution_count": null,
   "id": "82d9e4a8",
   "metadata": {},
   "outputs": [],
   "source": [
    "ModelCheckpoints = list()\n",
    "for i in range(10):\n",
    "    ModelCheckpoint = tf.keras.callbacks.ModelCheckpoint(filepath=\"./DL_Model/weights/%02d/{epoch:03d}-{val_auc:.3f}.hdf5\"%(i+1),monitor=\"val_auc\",save_weights_only=True,)\n",
    "    ModelCheckpoints.append(ModelCheckpoint)\n",
    "\n",
    "for i in range(10):\n",
    "    tf.keras.backend.clear_session()\n",
    "    tf.random.set_seed(2021)\n",
    "    model = Model()\n",
    "    history = model.fit(x_train_m1_list[i],y_train_m1_list[i],512,100,2\n",
    "              ,validation_data=[x_valid_m1_list[i],y_valid_m1_list[i]]\n",
    "              ,class_weight={1:1,0:1/30}\n",
    "              ,callbacks=[ModelCheckpoints[i]]\n",
    "             )\n"
   ]
  },
  {
   "cell_type": "code",
   "execution_count": 28,
   "id": "c28751e8",
   "metadata": {
    "ExecuteTime": {
     "end_time": "2021-05-05T05:40:46.414808Z",
     "start_time": "2021-05-05T05:40:28.822924Z"
    },
    "scrolled": true
   },
   "outputs": [
    {
     "name": "stdout",
     "output_type": "stream",
     "text": [
      "WARNING:tensorflow:AutoGraph could not transform <bound method Model.call of <__main__.Model object at 0x0000023690416A48>> and will run it as-is.\n",
      "Please report this to the TensorFlow team. When filing the bug, set the verbosity to 10 (on Linux, `export AUTOGRAPH_VERBOSITY=10`) and attach the full output.\n",
      "Cause: No module named 'tensorflow_core.estimator'\n"
     ]
    },
    {
     "name": "stderr",
     "output_type": "stream",
     "text": [
      "WARNING:tensorflow:AutoGraph could not transform <bound method Model.call of <__main__.Model object at 0x0000023690416A48>> and will run it as-is.\n",
      "Please report this to the TensorFlow team. When filing the bug, set the verbosity to 10 (on Linux, `export AUTOGRAPH_VERBOSITY=10`) and attach the full output.\n",
      "Cause: No module named 'tensorflow_core.estimator'\n"
     ]
    },
    {
     "name": "stdout",
     "output_type": "stream",
     "text": [
      "WARNING: AutoGraph could not transform <bound method Model.call of <__main__.Model object at 0x0000023690416A48>> and will run it as-is.\n",
      "Please report this to the TensorFlow team. When filing the bug, set the verbosity to 10 (on Linux, `export AUTOGRAPH_VERBOSITY=10`) and attach the full output.\n",
      "Cause: No module named 'tensorflow_core.estimator'\n",
      "WARNING:tensorflow:AutoGraph could not transform <bound method Model.call of <__main__.Model object at 0x00000236934C2D88>> and will run it as-is.\n",
      "Please report this to the TensorFlow team. When filing the bug, set the verbosity to 10 (on Linux, `export AUTOGRAPH_VERBOSITY=10`) and attach the full output.\n",
      "Cause: No module named 'tensorflow_core.estimator'\n"
     ]
    },
    {
     "name": "stderr",
     "output_type": "stream",
     "text": [
      "WARNING:tensorflow:AutoGraph could not transform <bound method Model.call of <__main__.Model object at 0x00000236934C2D88>> and will run it as-is.\n",
      "Please report this to the TensorFlow team. When filing the bug, set the verbosity to 10 (on Linux, `export AUTOGRAPH_VERBOSITY=10`) and attach the full output.\n",
      "Cause: No module named 'tensorflow_core.estimator'\n"
     ]
    },
    {
     "name": "stdout",
     "output_type": "stream",
     "text": [
      "WARNING: AutoGraph could not transform <bound method Model.call of <__main__.Model object at 0x00000236934C2D88>> and will run it as-is.\n",
      "Please report this to the TensorFlow team. When filing the bug, set the verbosity to 10 (on Linux, `export AUTOGRAPH_VERBOSITY=10`) and attach the full output.\n",
      "Cause: No module named 'tensorflow_core.estimator'\n",
      "WARNING:tensorflow:AutoGraph could not transform <bound method Model.call of <__main__.Model object at 0x000002369015BEC8>> and will run it as-is.\n",
      "Please report this to the TensorFlow team. When filing the bug, set the verbosity to 10 (on Linux, `export AUTOGRAPH_VERBOSITY=10`) and attach the full output.\n",
      "Cause: No module named 'tensorflow_core.estimator'\n"
     ]
    },
    {
     "name": "stderr",
     "output_type": "stream",
     "text": [
      "WARNING:tensorflow:AutoGraph could not transform <bound method Model.call of <__main__.Model object at 0x000002369015BEC8>> and will run it as-is.\n",
      "Please report this to the TensorFlow team. When filing the bug, set the verbosity to 10 (on Linux, `export AUTOGRAPH_VERBOSITY=10`) and attach the full output.\n",
      "Cause: No module named 'tensorflow_core.estimator'\n"
     ]
    },
    {
     "name": "stdout",
     "output_type": "stream",
     "text": [
      "WARNING: AutoGraph could not transform <bound method Model.call of <__main__.Model object at 0x000002369015BEC8>> and will run it as-is.\n",
      "Please report this to the TensorFlow team. When filing the bug, set the verbosity to 10 (on Linux, `export AUTOGRAPH_VERBOSITY=10`) and attach the full output.\n",
      "Cause: No module named 'tensorflow_core.estimator'\n",
      "WARNING:tensorflow:AutoGraph could not transform <bound method Model.call of <__main__.Model object at 0x00000235D1D1FB48>> and will run it as-is.\n",
      "Please report this to the TensorFlow team. When filing the bug, set the verbosity to 10 (on Linux, `export AUTOGRAPH_VERBOSITY=10`) and attach the full output.\n",
      "Cause: No module named 'tensorflow_core.estimator'\n"
     ]
    },
    {
     "name": "stderr",
     "output_type": "stream",
     "text": [
      "WARNING:tensorflow:AutoGraph could not transform <bound method Model.call of <__main__.Model object at 0x00000235D1D1FB48>> and will run it as-is.\n",
      "Please report this to the TensorFlow team. When filing the bug, set the verbosity to 10 (on Linux, `export AUTOGRAPH_VERBOSITY=10`) and attach the full output.\n",
      "Cause: No module named 'tensorflow_core.estimator'\n"
     ]
    },
    {
     "name": "stdout",
     "output_type": "stream",
     "text": [
      "WARNING: AutoGraph could not transform <bound method Model.call of <__main__.Model object at 0x00000235D1D1FB48>> and will run it as-is.\n",
      "Please report this to the TensorFlow team. When filing the bug, set the verbosity to 10 (on Linux, `export AUTOGRAPH_VERBOSITY=10`) and attach the full output.\n",
      "Cause: No module named 'tensorflow_core.estimator'\n",
      "WARNING:tensorflow:AutoGraph could not transform <bound method Model.call of <__main__.Model object at 0x00000236835FAC48>> and will run it as-is.\n",
      "Please report this to the TensorFlow team. When filing the bug, set the verbosity to 10 (on Linux, `export AUTOGRAPH_VERBOSITY=10`) and attach the full output.\n",
      "Cause: No module named 'tensorflow_core.estimator'\n"
     ]
    },
    {
     "name": "stderr",
     "output_type": "stream",
     "text": [
      "WARNING:tensorflow:AutoGraph could not transform <bound method Model.call of <__main__.Model object at 0x00000236835FAC48>> and will run it as-is.\n",
      "Please report this to the TensorFlow team. When filing the bug, set the verbosity to 10 (on Linux, `export AUTOGRAPH_VERBOSITY=10`) and attach the full output.\n",
      "Cause: No module named 'tensorflow_core.estimator'\n"
     ]
    },
    {
     "name": "stdout",
     "output_type": "stream",
     "text": [
      "WARNING: AutoGraph could not transform <bound method Model.call of <__main__.Model object at 0x00000236835FAC48>> and will run it as-is.\n",
      "Please report this to the TensorFlow team. When filing the bug, set the verbosity to 10 (on Linux, `export AUTOGRAPH_VERBOSITY=10`) and attach the full output.\n",
      "Cause: No module named 'tensorflow_core.estimator'\n",
      "WARNING:tensorflow:AutoGraph could not transform <bound method Model.call of <__main__.Model object at 0x000002369094BBC8>> and will run it as-is.\n",
      "Please report this to the TensorFlow team. When filing the bug, set the verbosity to 10 (on Linux, `export AUTOGRAPH_VERBOSITY=10`) and attach the full output.\n",
      "Cause: No module named 'tensorflow_core.estimator'\n"
     ]
    },
    {
     "name": "stderr",
     "output_type": "stream",
     "text": [
      "WARNING:tensorflow:AutoGraph could not transform <bound method Model.call of <__main__.Model object at 0x000002369094BBC8>> and will run it as-is.\n",
      "Please report this to the TensorFlow team. When filing the bug, set the verbosity to 10 (on Linux, `export AUTOGRAPH_VERBOSITY=10`) and attach the full output.\n",
      "Cause: No module named 'tensorflow_core.estimator'\n"
     ]
    },
    {
     "name": "stdout",
     "output_type": "stream",
     "text": [
      "WARNING: AutoGraph could not transform <bound method Model.call of <__main__.Model object at 0x000002369094BBC8>> and will run it as-is.\n",
      "Please report this to the TensorFlow team. When filing the bug, set the verbosity to 10 (on Linux, `export AUTOGRAPH_VERBOSITY=10`) and attach the full output.\n",
      "Cause: No module named 'tensorflow_core.estimator'\n",
      "WARNING:tensorflow:AutoGraph could not transform <bound method Model.call of <__main__.Model object at 0x00000236C98D8048>> and will run it as-is.\n",
      "Please report this to the TensorFlow team. When filing the bug, set the verbosity to 10 (on Linux, `export AUTOGRAPH_VERBOSITY=10`) and attach the full output.\n",
      "Cause: No module named 'tensorflow_core.estimator'\n"
     ]
    },
    {
     "name": "stderr",
     "output_type": "stream",
     "text": [
      "WARNING:tensorflow:AutoGraph could not transform <bound method Model.call of <__main__.Model object at 0x00000236C98D8048>> and will run it as-is.\n",
      "Please report this to the TensorFlow team. When filing the bug, set the verbosity to 10 (on Linux, `export AUTOGRAPH_VERBOSITY=10`) and attach the full output.\n",
      "Cause: No module named 'tensorflow_core.estimator'\n"
     ]
    },
    {
     "name": "stdout",
     "output_type": "stream",
     "text": [
      "WARNING: AutoGraph could not transform <bound method Model.call of <__main__.Model object at 0x00000236C98D8048>> and will run it as-is.\n",
      "Please report this to the TensorFlow team. When filing the bug, set the verbosity to 10 (on Linux, `export AUTOGRAPH_VERBOSITY=10`) and attach the full output.\n",
      "Cause: No module named 'tensorflow_core.estimator'\n",
      "WARNING:tensorflow:AutoGraph could not transform <bound method Model.call of <__main__.Model object at 0x0000023690999E08>> and will run it as-is.\n",
      "Please report this to the TensorFlow team. When filing the bug, set the verbosity to 10 (on Linux, `export AUTOGRAPH_VERBOSITY=10`) and attach the full output.\n",
      "Cause: No module named 'tensorflow_core.estimator'\n"
     ]
    },
    {
     "name": "stderr",
     "output_type": "stream",
     "text": [
      "WARNING:tensorflow:AutoGraph could not transform <bound method Model.call of <__main__.Model object at 0x0000023690999E08>> and will run it as-is.\n",
      "Please report this to the TensorFlow team. When filing the bug, set the verbosity to 10 (on Linux, `export AUTOGRAPH_VERBOSITY=10`) and attach the full output.\n",
      "Cause: No module named 'tensorflow_core.estimator'\n"
     ]
    },
    {
     "name": "stdout",
     "output_type": "stream",
     "text": [
      "WARNING: AutoGraph could not transform <bound method Model.call of <__main__.Model object at 0x0000023690999E08>> and will run it as-is.\n",
      "Please report this to the TensorFlow team. When filing the bug, set the verbosity to 10 (on Linux, `export AUTOGRAPH_VERBOSITY=10`) and attach the full output.\n",
      "Cause: No module named 'tensorflow_core.estimator'\n",
      "WARNING:tensorflow:AutoGraph could not transform <bound method Model.call of <__main__.Model object at 0x00000236901E6FC8>> and will run it as-is.\n",
      "Please report this to the TensorFlow team. When filing the bug, set the verbosity to 10 (on Linux, `export AUTOGRAPH_VERBOSITY=10`) and attach the full output.\n",
      "Cause: No module named 'tensorflow_core.estimator'\n"
     ]
    },
    {
     "name": "stderr",
     "output_type": "stream",
     "text": [
      "WARNING:tensorflow:AutoGraph could not transform <bound method Model.call of <__main__.Model object at 0x00000236901E6FC8>> and will run it as-is.\n",
      "Please report this to the TensorFlow team. When filing the bug, set the verbosity to 10 (on Linux, `export AUTOGRAPH_VERBOSITY=10`) and attach the full output.\n",
      "Cause: No module named 'tensorflow_core.estimator'\n"
     ]
    },
    {
     "name": "stdout",
     "output_type": "stream",
     "text": [
      "WARNING: AutoGraph could not transform <bound method Model.call of <__main__.Model object at 0x00000236901E6FC8>> and will run it as-is.\n",
      "Please report this to the TensorFlow team. When filing the bug, set the verbosity to 10 (on Linux, `export AUTOGRAPH_VERBOSITY=10`) and attach the full output.\n",
      "Cause: No module named 'tensorflow_core.estimator'\n",
      "WARNING:tensorflow:AutoGraph could not transform <bound method Model.call of <__main__.Model object at 0x000002369094BAC8>> and will run it as-is.\n",
      "Please report this to the TensorFlow team. When filing the bug, set the verbosity to 10 (on Linux, `export AUTOGRAPH_VERBOSITY=10`) and attach the full output.\n",
      "Cause: No module named 'tensorflow_core.estimator'\n"
     ]
    },
    {
     "name": "stderr",
     "output_type": "stream",
     "text": [
      "WARNING:tensorflow:AutoGraph could not transform <bound method Model.call of <__main__.Model object at 0x000002369094BAC8>> and will run it as-is.\n",
      "Please report this to the TensorFlow team. When filing the bug, set the verbosity to 10 (on Linux, `export AUTOGRAPH_VERBOSITY=10`) and attach the full output.\n",
      "Cause: No module named 'tensorflow_core.estimator'\n"
     ]
    },
    {
     "name": "stdout",
     "output_type": "stream",
     "text": [
      "WARNING: AutoGraph could not transform <bound method Model.call of <__main__.Model object at 0x000002369094BAC8>> and will run it as-is.\n",
      "Please report this to the TensorFlow team. When filing the bug, set the verbosity to 10 (on Linux, `export AUTOGRAPH_VERBOSITY=10`) and attach the full output.\n",
      "Cause: No module named 'tensorflow_core.estimator'\n"
     ]
    }
   ],
   "source": [
    "auc_test_list = list()\n",
    "SnSp90_test_list = list()\n",
    "SnSp95_test_list = list()\n",
    "SnSp99_test_list = list()\n",
    "\n",
    "auc_test_list_non = list()\n",
    "SnSp90_test_list_non = list()\n",
    "SnSp95_test_list_non = list()\n",
    "SnSp99_test_list_non = list()\n",
    "\n",
    "auc_valid_list = list()\n",
    "SnSp90_valid_list = list()\n",
    "SnSp95_valid_list = list()\n",
    "SnSp99_valid_list = list()\n",
    "for i in range(10):\n",
    "    model = Model()\n",
    "    model.build((None,51*21))\n",
    "    tf.keras.backend.clear_session()\n",
    "    Se_1 = pd.Series(os.listdir(\"./DL_Model/weights/%02d\"%(i+1)))\n",
    "    path = \"./DL_Model/weights/%02d/\"%(i+1)+Se_1[Se_1.str.split(\"-\").str[0]==\"150\"].values[0]\n",
    "    \n",
    "    model.load_weights(path)\n",
    "\n",
    "    y_pred = model.predict(x_test_m1)[:,0]\n",
    "    y_true = y_test_m1[:,0]\n",
    "    auc_test = tf.metrics.AUC(1000)(y_true,y_pred)\n",
    "    SnSp90_test = tf.metrics.SensitivityAtSpecificity(0.9)(y_true,y_pred)\n",
    "    SnSp95_test = tf.metrics.SensitivityAtSpecificity(0.95)(y_true,y_pred)\n",
    "    SnSp99_test = tf.metrics.SensitivityAtSpecificity(0.99)(y_true,y_pred)\n",
    "    auc_test_list.append(auc_test)\n",
    "    SnSp90_test_list.append(SnSp90_test)\n",
    "    SnSp95_test_list.append(SnSp95_test)\n",
    "    SnSp99_test_list.append(SnSp99_test)\n",
    "    \n",
    "    y_pred = model.predict(x_test_m1[nonredundancy])[:,0]\n",
    "    y_true = y_test_m1[nonredundancy][:,0]\n",
    "    auc_test = tf.metrics.AUC(1000)(y_true,y_pred)\n",
    "    SnSp90_test = tf.metrics.SensitivityAtSpecificity(0.9)(y_true,y_pred)\n",
    "    SnSp95_test = tf.metrics.SensitivityAtSpecificity(0.95)(y_true,y_pred)\n",
    "    SnSp99_test = tf.metrics.SensitivityAtSpecificity(0.99)(y_true,y_pred)\n",
    "    auc_test_list_non.append(auc_test)\n",
    "    SnSp90_test_list_non.append(SnSp90_test)\n",
    "    SnSp95_test_list_non.append(SnSp95_test)\n",
    "    SnSp99_test_list_non.append(SnSp99_test)\n",
    "    \n",
    "    y_pred = model.predict(x_valid_m1_list[i])[:,0]\n",
    "    y_true = y_valid_m1_list[i][:,0]\n",
    "    auc_valid = tf.metrics.AUC(1000)(y_true,y_pred)\n",
    "    SnSp90_valid = tf.metrics.SensitivityAtSpecificity(0.9)(y_true,y_pred)\n",
    "    SnSp95_valid = tf.metrics.SensitivityAtSpecificity(0.95)(y_true,y_pred)\n",
    "    SnSp99_valid = tf.metrics.SensitivityAtSpecificity(0.99)(y_true,y_pred)\n",
    "    auc_valid_list.append(auc_valid)\n",
    "    SnSp90_valid_list.append(SnSp90_valid)\n",
    "    SnSp95_valid_list.append(SnSp95_valid)\n",
    "    SnSp99_valid_list.append(SnSp99_valid)"
   ]
  },
  {
   "cell_type": "code",
   "execution_count": 18,
   "id": "78f63f9b",
   "metadata": {
    "ExecuteTime": {
     "end_time": "2021-05-05T05:18:19.513681Z",
     "start_time": "2021-05-05T05:18:19.468679Z"
    },
    "scrolled": false
   },
   "outputs": [
    {
     "name": "stdout",
     "output_type": "stream",
     "text": [
      "test:AUC, Sn(Sp=0.9), Sn(Sp=0.95), Sn(Sp=0.99)\n",
      "0.866 0.673 0.499 0.169\n",
      "0.863 0.627 0.480 0.181\n",
      "0.866 0.660 0.499 0.157\n",
      "0.867 0.657 0.523 0.220\n",
      "0.871 0.655 0.504 0.218\n",
      "0.873 0.658 0.519 0.163\n",
      "0.866 0.655 0.490 0.148\n",
      "0.865 0.643 0.495 0.197\n",
      "0.868 0.661 0.519 0.203\n",
      "0.866 0.649 0.497 0.246\n",
      "test_nonredundancy:AUC, Sn(Sp=0.9), Sn(Sp=0.95), Sn(Sp=0.99)\n",
      "0.839 0.625 0.464 0.196\n",
      "0.832 0.575 0.432 0.154\n",
      "0.839 0.618 0.486 0.129\n",
      "0.842 0.600 0.514 0.161\n",
      "0.850 0.621 0.475 0.189\n",
      "0.853 0.629 0.479 0.136\n",
      "0.842 0.582 0.439 0.125\n",
      "0.844 0.611 0.439 0.146\n",
      "0.848 0.621 0.489 0.207\n",
      "0.841 0.586 0.468 0.218\n",
      "valid:AUC, Sn(Sp=0.9), Sn(Sp=0.95), Sn(Sp=0.99)\n",
      "0.880 0.687 0.552 0.263\n",
      "0.866 0.647 0.486 0.207\n",
      "0.865 0.638 0.474 0.204\n",
      "0.861 0.651 0.531 0.182\n",
      "0.865 0.656 0.512 0.205\n",
      "0.872 0.657 0.512 0.235\n",
      "0.874 0.674 0.508 0.209\n",
      "0.871 0.651 0.500 0.240\n",
      "0.882 0.698 0.552 0.210\n",
      "0.872 0.683 0.547 0.276\n"
     ]
    }
   ],
   "source": [
    "# 300步\n",
    "print(\"test:AUC, Sn(Sp=0.9), Sn(Sp=0.95), Sn(Sp=0.99)\")    \n",
    "for i in range(10):\n",
    "    print(\"%5.3f %5.3f %5.3f %5.3f\"%(\n",
    "        auc_test_list[i],SnSp90_test_list[i],SnSp95_test_list[i],SnSp99_test_list[i]\n",
    "    ))\n",
    "    \n",
    "print(\"test_nonredundancy:AUC, Sn(Sp=0.9), Sn(Sp=0.95), Sn(Sp=0.99)\")    \n",
    "for i in range(10):\n",
    "    print(\"%5.3f %5.3f %5.3f %5.3f\"%(\n",
    "        auc_test_list_non[i],SnSp90_test_list_non[i],SnSp95_test_list_non[i],SnSp99_test_list_non[i]\n",
    "    ))\n",
    "\n",
    "print(\"valid:AUC, Sn(Sp=0.9), Sn(Sp=0.95), Sn(Sp=0.99)\")  \n",
    "for i in range(10):      \n",
    "    print(\"%5.3f %5.3f %5.3f %5.3f\"%(\n",
    "        auc_valid_list[i],SnSp90_valid_list[i],SnSp95_valid_list[i],SnSp99_valid_list[i]\n",
    "    ))\n"
   ]
  },
  {
   "cell_type": "code",
   "execution_count": 27,
   "id": "2945c7af",
   "metadata": {
    "ExecuteTime": {
     "end_time": "2021-05-05T05:40:26.859095Z",
     "start_time": "2021-05-05T05:40:26.816080Z"
    },
    "scrolled": false
   },
   "outputs": [
    {
     "name": "stdout",
     "output_type": "stream",
     "text": [
      "test:AUC, Sn(Sp=0.9), Sn(Sp=0.95), Sn(Sp=0.99)\n",
      "0.859 0.615 0.479 0.178\n",
      "0.860 0.618 0.454 0.144\n",
      "0.863 0.614 0.451 0.181\n",
      "0.859 0.618 0.459 0.163\n",
      "0.861 0.611 0.464 0.186\n",
      "0.865 0.637 0.460 0.201\n",
      "0.864 0.629 0.474 0.177\n",
      "0.860 0.625 0.458 0.161\n",
      "0.860 0.605 0.457 0.193\n",
      "0.862 0.614 0.472 0.167\n",
      "test_nonredundancy:AUC, Sn(Sp=0.9), Sn(Sp=0.95), Sn(Sp=0.99)\n",
      "0.848 0.607 0.471 0.146\n",
      "0.849 0.604 0.479 0.096\n",
      "0.853 0.607 0.450 0.139\n",
      "0.848 0.625 0.489 0.129\n",
      "0.852 0.614 0.486 0.111\n",
      "0.854 0.614 0.468 0.136\n",
      "0.855 0.625 0.461 0.143\n",
      "0.854 0.621 0.482 0.129\n",
      "0.852 0.600 0.436 0.225\n",
      "0.852 0.596 0.493 0.200\n",
      "valid:AUC, Sn(Sp=0.9), Sn(Sp=0.95), Sn(Sp=0.99)\n",
      "0.879 0.663 0.544 0.274\n",
      "0.861 0.625 0.465 0.221\n",
      "0.855 0.589 0.423 0.164\n",
      "0.855 0.621 0.502 0.190\n",
      "0.853 0.601 0.462 0.184\n",
      "0.866 0.623 0.472 0.219\n",
      "0.867 0.625 0.477 0.186\n",
      "0.860 0.604 0.423 0.158\n",
      "0.868 0.649 0.485 0.182\n",
      "0.869 0.659 0.492 0.248\n"
     ]
    }
   ],
   "source": [
    "# 50 步\n",
    "print(\"test:AUC, Sn(Sp=0.9), Sn(Sp=0.95), Sn(Sp=0.99)\")    \n",
    "for i in range(10):\n",
    "    print(\"%5.3f %5.3f %5.3f %5.3f\"%(\n",
    "        auc_test_list[i],SnSp90_test_list[i],SnSp95_test_list[i],SnSp99_test_list[i]\n",
    "    ))\n",
    "    \n",
    "print(\"test_nonredundancy:AUC, Sn(Sp=0.9), Sn(Sp=0.95), Sn(Sp=0.99)\")    \n",
    "for i in range(10):\n",
    "    print(\"%5.3f %5.3f %5.3f %5.3f\"%(\n",
    "        auc_test_list_non[i],SnSp90_test_list_non[i],SnSp95_test_list_non[i],SnSp99_test_list_non[i]\n",
    "    ))\n",
    "\n",
    "print(\"valid:AUC, Sn(Sp=0.9), Sn(Sp=0.95), Sn(Sp=0.99)\")  \n",
    "for i in range(10):      \n",
    "    print(\"%5.3f %5.3f %5.3f %5.3f\"%(\n",
    "        auc_valid_list[i],SnSp90_valid_list[i],SnSp95_valid_list[i],SnSp99_valid_list[i]\n",
    "    ))\n"
   ]
  },
  {
   "cell_type": "code",
   "execution_count": 37,
   "id": "d2c5c468",
   "metadata": {
    "ExecuteTime": {
     "end_time": "2021-05-05T05:59:02.420639Z",
     "start_time": "2021-05-05T05:59:01.642834Z"
    }
   },
   "outputs": [
    {
     "name": "stdout",
     "output_type": "stream",
     "text": [
      "test:AUC, Sn(Sp=0.9), Sn(Sp=0.95), Sn(Sp=0.99)\n",
      "0.861 0.615 0.448 0.188\n",
      "test_nonredundancy:AUC, Sn(Sp=0.9), Sn(Sp=0.95), Sn(Sp=0.99)\n",
      "0.845 0.593 0.464 0.175\n"
     ]
    }
   ],
   "source": [
    "model.load_weights(\"./DL_Model/weights/000/weights.050-0.861.hdf5\")\n",
    "\n",
    "y_pred = model.predict(x_test_m1)[:,0]\n",
    "y_true = y_test_m1[:,0]\n",
    "auc_test = tf.metrics.AUC(1000)(y_true,y_pred)\n",
    "SnSp90_test = tf.metrics.SensitivityAtSpecificity(0.9)(y_true,y_pred)\n",
    "SnSp95_test = tf.metrics.SensitivityAtSpecificity(0.95)(y_true,y_pred)\n",
    "SnSp99_test = tf.metrics.SensitivityAtSpecificity(0.99)(y_true,y_pred)\n",
    "\n",
    "y_pred = model.predict(x_test_m1[nonredundancy])[:,0]\n",
    "y_true = y_test_m1[nonredundancy][:,0]\n",
    "auc_test_non = tf.metrics.AUC(1000)(y_true,y_pred)\n",
    "SnSp90_test_non = tf.metrics.SensitivityAtSpecificity(0.9)(y_true,y_pred)\n",
    "SnSp95_test_non = tf.metrics.SensitivityAtSpecificity(0.95)(y_true,y_pred)\n",
    "SnSp99_test_non = tf.metrics.SensitivityAtSpecificity(0.99)(y_true,y_pred)\n",
    "\n",
    "print(\"test:AUC, Sn(Sp=0.9), Sn(Sp=0.95), Sn(Sp=0.99)\")   \n",
    "print(\"%5.3f %5.3f %5.3f %5.3f\"%(\n",
    "        auc_test,SnSp90_test,SnSp95_test,SnSp99_test\n",
    "    ))\n",
    "    \n",
    "print(\"test_nonredundancy:AUC, Sn(Sp=0.9), Sn(Sp=0.95), Sn(Sp=0.99)\")    \n",
    "for i in range(1):\n",
    "    print(\"%5.3f %5.3f %5.3f %5.3f\"%(\n",
    "        auc_test_non,SnSp90_test_non,SnSp95_test_non,SnSp99_test_non\n",
    "    ))"
   ]
  },
  {
   "cell_type": "markdown",
   "id": "6c98d819",
   "metadata": {},
   "source": [
    "# DL原始版预测"
   ]
  },
  {
   "cell_type": "code",
   "execution_count": 56,
   "id": "57ba5ade",
   "metadata": {
    "ExecuteTime": {
     "end_time": "2021-05-05T07:52:33.661014Z",
     "start_time": "2021-05-05T07:52:30.232943Z"
    }
   },
   "outputs": [],
   "source": [
    "df_1 = pd.read_csv(\"Methylation_site_dataset\",sep='\\t',header=2)\n",
    "\n",
    "#df_2 = pd.read_csv(\"Methylation.txt\",sep='\\t',header=None)\n",
    "\n",
    "df_1.query(\"ORGANISM=='human'\",inplace=True)\n",
    "\n",
    "df_1 = df_1[df_1.MOD_RSD.str[0]==\"R\"].copy()\n",
    "\n",
    "df_1[\"Position\"] = df_1.MOD_RSD.str.split(\"-\").str[0].str[1:].astype(int)\n",
    "\n",
    "df_1[\"Type\"] = df_1.MOD_RSD.str.split(\"-\").str[1]\n",
    "\n",
    "df_1[\"SeqWin\"] = df_1[\"SITE_+/-7_AA\"].str.upper()\n",
    "\n",
    "df_1 = df_1[[\"ACC_ID\",\"Position\",\"Type\",\"SeqWin\"]].copy()\n",
    "\n",
    "df_1.Type.value_counts()\n",
    "\n",
    "with open('uniprot_sp_isoform.fasta') as f:\n",
    "    text = f.read()\n",
    "\n",
    "p1 = re.compile(\"^>\", re.M)\n",
    "\n",
    "p2 = re.compile(\"^>\\w\\w\\|(.+?)\\|\", re.M)\n",
    "\n",
    "Entry = p2.findall(text)\n",
    "\n",
    "Sequence = [\"\".join(i.split(\"\\n\")[1:]) for i in text.split(\"\\n>\")]\n",
    "\n",
    "df_uniprot = pd.DataFrame(dict(Entry=Entry,Sequence=Sequence))\n",
    "\n",
    "df_uniprot\n",
    "\n",
    "df_1 = df_1.merge(df_uniprot,left_on=\"ACC_ID\",right_on=\"Entry\")\n",
    "\n",
    "df_1 = df_1[[\"Entry\",\"Position\",\"Type\",\"SeqWin\",\"Sequence\"]].copy()\n",
    "\n",
    "def F_pad(seq,n=30):\n",
    "    return \"_\"*n+seq+\"_\"*n\n",
    "\n",
    "df_1.Sequence.apply(F_pad)\n",
    "\n",
    "df_1.SeqWin.str.len().unique()\n",
    "\n",
    "df_1.apply(lambda x:F_pad(x.Sequence,7).find(x.SeqWin),1)\n",
    "\n",
    "df_1 = df_1[df_1.apply(lambda x:F_pad(x.Sequence,7).find(x.SeqWin)==x.Position-1,1)].copy()\n",
    "\n",
    "df_1.SeqWin = df_1.apply(lambda x:F_pad(x.Sequence,25)[x.Position-1:x.Position+25*2],1)\n",
    "\n",
    "set().issubset(set())\n",
    "\n",
    "AAs = ['Q', 'L', 'N', 'G', 'R', 'F', 'W', 'T', 'E', 'K', 'I', 'D', 'V', 'Y', 'S', 'A', 'C', 'M', 'H', 'P']\n",
    "\n",
    "df_1 = df_1[df_1.Sequence.apply(lambda x: set(x).issubset(AAs))].copy()\n",
    "\n",
    "Pos_SeqWin_R = df_1.SeqWin\n",
    "\n",
    "SeqWin_R = list()\n",
    "for seq in df_1.Sequence:\n",
    "    seq = F_pad(seq)\n",
    "    for i,AA in enumerate(seq):\n",
    "        if AA==\"R\":\n",
    "            SeqWin_R.append(seq[i-25:i+1+25])\n",
    "\n",
    "\n",
    "\n",
    "All_SeqWin_R = pd.Series(SeqWin_R).drop_duplicates()\n",
    "\n",
    "Neg_SeqWin_R = All_SeqWin_R[~All_SeqWin_R.isin(Pos_SeqWin_R)]"
   ]
  },
  {
   "cell_type": "code",
   "execution_count": 43,
   "id": "c23811bc",
   "metadata": {
    "ExecuteTime": {
     "end_time": "2021-05-05T06:09:37.481598Z",
     "start_time": "2021-05-05T06:05:07.799105Z"
    }
   },
   "outputs": [],
   "source": [
    "def findSeqWin(df_1):\n",
    "    def F_pad(seq,n=30):\n",
    "        return \"_\"*n+seq+\"_\"*n\n",
    "    SeqWin_R = list()\n",
    "    Position_R = list()\n",
    "    seq = df_1.Sequence.iloc[0]\n",
    "    seq = F_pad(seq)\n",
    "    for i,AA in enumerate(seq):\n",
    "        if AA==\"R\":\n",
    "            SeqWin_R.append(seq[i-25:i+1+25])\n",
    "            Position_R.append(i-30)\n",
    "    return pd.DataFrame(dict(SeqWin=SeqWin_R,Position=Position_R))\n",
    "\n",
    "# 找到蛋白质中所有位点\n",
    "df_R_sites = df_uniprot.groupby(\"Entry\").apply(findSeqWin).reset_index()  # 1369082\n",
    "df_R_sites = df_R_sites[df_R_sites.SeqWin.apply(lambda x: set(x).issubset(set(AAs+[\"_\"])))]  # 1368935"
   ]
  },
  {
   "cell_type": "code",
   "execution_count": 57,
   "id": "775b85ee",
   "metadata": {
    "ExecuteTime": {
     "end_time": "2021-05-05T07:52:35.961058Z",
     "start_time": "2021-05-05T07:52:35.943084Z"
    }
   },
   "outputs": [
    {
     "data": {
      "text/html": [
       "<div>\n",
       "<style scoped>\n",
       "    .dataframe tbody tr th:only-of-type {\n",
       "        vertical-align: middle;\n",
       "    }\n",
       "\n",
       "    .dataframe tbody tr th {\n",
       "        vertical-align: top;\n",
       "    }\n",
       "\n",
       "    .dataframe thead th {\n",
       "        text-align: right;\n",
       "    }\n",
       "</style>\n",
       "<table border=\"1\" class=\"dataframe\">\n",
       "  <thead>\n",
       "    <tr style=\"text-align: right;\">\n",
       "      <th></th>\n",
       "      <th>Entry</th>\n",
       "      <th>level_1</th>\n",
       "      <th>SeqWin</th>\n",
       "      <th>Position</th>\n",
       "    </tr>\n",
       "  </thead>\n",
       "  <tbody>\n",
       "    <tr>\n",
       "      <th>0</th>\n",
       "      <td>A0A024RBG1</td>\n",
       "      <td>0</td>\n",
       "      <td>________________MMKFKPNQTRTYDREGFKKRAACLCFRSEQ...</td>\n",
       "      <td>9.0</td>\n",
       "    </tr>\n",
       "    <tr>\n",
       "      <th>1</th>\n",
       "      <td>A0A024RBG1</td>\n",
       "      <td>1</td>\n",
       "      <td>____________MMKFKPNQTRTYDREGFKKRAACLCFRSEQEDEV...</td>\n",
       "      <td>13.0</td>\n",
       "    </tr>\n",
       "    <tr>\n",
       "      <th>2</th>\n",
       "      <td>A0A024RBG1</td>\n",
       "      <td>2</td>\n",
       "      <td>______MMKFKPNQTRTYDREGFKKRAACLCFRSEQEDEVLLVSSS...</td>\n",
       "      <td>19.0</td>\n",
       "    </tr>\n",
       "    <tr>\n",
       "      <th>3</th>\n",
       "      <td>A0A024RBG1</td>\n",
       "      <td>3</td>\n",
       "      <td>MKFKPNQTRTYDREGFKKRAACLCFRSEQEDEVLLVSSSRYPDQWI...</td>\n",
       "      <td>26.0</td>\n",
       "    </tr>\n",
       "    <tr>\n",
       "      <th>4</th>\n",
       "      <td>A0A024RBG1</td>\n",
       "      <td>4</td>\n",
       "      <td>GFKKRAACLCFRSEQEDEVLLVSSSRYPDQWIVPGGGMEPEEEPGG...</td>\n",
       "      <td>40.0</td>\n",
       "    </tr>\n",
       "    <tr>\n",
       "      <th>...</th>\n",
       "      <td>...</td>\n",
       "      <td>...</td>\n",
       "      <td>...</td>\n",
       "      <td>...</td>\n",
       "    </tr>\n",
       "    <tr>\n",
       "      <th>1369077</th>\n",
       "      <td>W6CW81</td>\n",
       "      <td>1</td>\n",
       "      <td>LPDEFNIATGKLHTLNSTSSQLDLKRWHGVCSEEDRIFQKLNYMLV...</td>\n",
       "      <td>53.0</td>\n",
       "    </tr>\n",
       "    <tr>\n",
       "      <th>1369078</th>\n",
       "      <td>W6CW81</td>\n",
       "      <td>2</td>\n",
       "      <td>KLHTLNSTSSQLDLKRWHGVCSEEDRIFQKLNYMLVAKCLREEQET...</td>\n",
       "      <td>63.0</td>\n",
       "    </tr>\n",
       "    <tr>\n",
       "      <th>1369079</th>\n",
       "      <td>W6CW81</td>\n",
       "      <td>3</td>\n",
       "      <td>RWHGVCSEEDRIFQKLNYMLVAKCLREEQETGICGSPSSARSVSQS...</td>\n",
       "      <td>78.0</td>\n",
       "    </tr>\n",
       "    <tr>\n",
       "      <th>1369080</th>\n",
       "      <td>W6CW81</td>\n",
       "      <td>4</td>\n",
       "      <td>LNYMLVAKCLREEQETGICGSPSSARSVSQSRLGLSFHGISGNAC_...</td>\n",
       "      <td>93.0</td>\n",
       "    </tr>\n",
       "    <tr>\n",
       "      <th>1369081</th>\n",
       "      <td>W6CW81</td>\n",
       "      <td>5</td>\n",
       "      <td>AKCLREEQETGICGSPSSARSVSQSRLGLSFHGISGNAC_______...</td>\n",
       "      <td>99.0</td>\n",
       "    </tr>\n",
       "  </tbody>\n",
       "</table>\n",
       "<p>1368935 rows × 4 columns</p>\n",
       "</div>"
      ],
      "text/plain": [
       "              Entry  level_1  \\\n",
       "0        A0A024RBG1        0   \n",
       "1        A0A024RBG1        1   \n",
       "2        A0A024RBG1        2   \n",
       "3        A0A024RBG1        3   \n",
       "4        A0A024RBG1        4   \n",
       "...             ...      ...   \n",
       "1369077      W6CW81        1   \n",
       "1369078      W6CW81        2   \n",
       "1369079      W6CW81        3   \n",
       "1369080      W6CW81        4   \n",
       "1369081      W6CW81        5   \n",
       "\n",
       "                                                    SeqWin  Position  \n",
       "0        ________________MMKFKPNQTRTYDREGFKKRAACLCFRSEQ...       9.0  \n",
       "1        ____________MMKFKPNQTRTYDREGFKKRAACLCFRSEQEDEV...      13.0  \n",
       "2        ______MMKFKPNQTRTYDREGFKKRAACLCFRSEQEDEVLLVSSS...      19.0  \n",
       "3        MKFKPNQTRTYDREGFKKRAACLCFRSEQEDEVLLVSSSRYPDQWI...      26.0  \n",
       "4        GFKKRAACLCFRSEQEDEVLLVSSSRYPDQWIVPGGGMEPEEEPGG...      40.0  \n",
       "...                                                    ...       ...  \n",
       "1369077  LPDEFNIATGKLHTLNSTSSQLDLKRWHGVCSEEDRIFQKLNYMLV...      53.0  \n",
       "1369078  KLHTLNSTSSQLDLKRWHGVCSEEDRIFQKLNYMLVAKCLREEQET...      63.0  \n",
       "1369079  RWHGVCSEEDRIFQKLNYMLVAKCLREEQETGICGSPSSARSVSQS...      78.0  \n",
       "1369080  LNYMLVAKCLREEQETGICGSPSSARSVSQSRLGLSFHGISGNAC_...      93.0  \n",
       "1369081  AKCLREEQETGICGSPSSARSVSQSRLGLSFHGISGNAC_______...      99.0  \n",
       "\n",
       "[1368935 rows x 4 columns]"
      ]
     },
     "execution_count": 57,
     "metadata": {},
     "output_type": "execute_result"
    }
   ],
   "source": [
    "df_R_sites"
   ]
  },
  {
   "cell_type": "code",
   "execution_count": null,
   "id": "365752f2",
   "metadata": {
    "ExecuteTime": {
     "start_time": "2021-05-05T07:53:24.322Z"
    }
   },
   "outputs": [],
   "source": [
    "np_R_SeqWin = df_R_sites.SeqWin.apply(lambda x: pd.Series(list(x))).replace(AAs+[\"_\"],range(21)).to_numpy()"
   ]
  },
  {
   "cell_type": "code",
   "execution_count": null,
   "id": "6df65328",
   "metadata": {},
   "outputs": [],
   "source": [
    "#torch.save([df_R_sites,np_R_SeqWin],\"var/np_R_SeqWin\")"
   ]
  },
  {
   "cell_type": "code",
   "execution_count": 3,
   "id": "f9206147",
   "metadata": {
    "ExecuteTime": {
     "end_time": "2021-05-06T01:25:04.719315Z",
     "start_time": "2021-05-06T01:24:54.340507Z"
    }
   },
   "outputs": [],
   "source": [
    "df_R_sites,np_R_SeqWin = torch.load(\"var/np_R_SeqWin\")"
   ]
  },
  {
   "cell_type": "code",
   "execution_count": null,
   "id": "60032cd9",
   "metadata": {},
   "outputs": [],
   "source": [
    "#df_1.to_csv(\"./Rm1Sites_known_SwissProt_Human_with_isoform.csv\", index=False)"
   ]
  },
  {
   "cell_type": "code",
   "execution_count": null,
   "id": "eea88c73",
   "metadata": {},
   "outputs": [],
   "source": [
    "#df_R_sites.to_csv(\"./Rm1Sites_all_SwissProt_Human_with_isoform.csv\", index=False)"
   ]
  },
  {
   "cell_type": "code",
   "execution_count": null,
   "id": "6dcdc660",
   "metadata": {
    "ExecuteTime": {
     "start_time": "2021-05-06T01:31:04.376Z"
    }
   },
   "outputs": [],
   "source": [
    "np_R_SeqWin_one_hot1 = tf.one_hot(np_R_SeqWin[:700000],21).numpy().reshape([-1,51*21])\n",
    "\n",
    "np_R_SeqWin_one_hot2 = tf.one_hot(np_R_SeqWin[700000:],21).numpy().reshape([-1,51*21])"
   ]
  },
  {
   "cell_type": "code",
   "execution_count": 11,
   "id": "729d61c7",
   "metadata": {
    "ExecuteTime": {
     "end_time": "2021-05-06T01:31:15.180018Z",
     "start_time": "2021-05-06T01:31:14.985779Z"
    }
   },
   "outputs": [
    {
     "name": "stdout",
     "output_type": "stream",
     "text": [
      "ERROR! Session/line number was not unique in database. History logging moved to new session 419\n"
     ]
    }
   ],
   "source": [
    "model.load_weights(\"DL_Model/weights/000/weights.300-0.871.hdf5\")"
   ]
  },
  {
   "cell_type": "code",
   "execution_count": null,
   "id": "da3974f5",
   "metadata": {
    "ExecuteTime": {
     "start_time": "2021-05-06T01:31:09.672Z"
    }
   },
   "outputs": [],
   "source": [
    "y_pred1 = model.predict(np_R_SeqWin_one_hot1,1500)[:,0]\n",
    "\n",
    "y_pred2 = model.predict(np_R_SeqWin_one_hot2,1500)[:,0]"
   ]
  },
  {
   "cell_type": "code",
   "execution_count": null,
   "id": "f95b7575",
   "metadata": {},
   "outputs": [],
   "source": [
    "#torch.save(np.concatenate([y_pred1,y_pred2]),\"var/y_pred\")"
   ]
  },
  {
   "cell_type": "code",
   "execution_count": 12,
   "id": "ed97915e",
   "metadata": {
    "ExecuteTime": {
     "end_time": "2021-05-06T01:32:27.725882Z",
     "start_time": "2021-05-06T01:32:25.863779Z"
    }
   },
   "outputs": [
    {
     "name": "stdout",
     "output_type": "stream",
     "text": [
      "ERROR! Session/line number was not unique in database. History logging moved to new session 420\n"
     ]
    }
   ],
   "source": [
    "y_pred = torch.load(\"var/y_pred\")"
   ]
  },
  {
   "cell_type": "code",
   "execution_count": 23,
   "id": "815cffb5",
   "metadata": {
    "ExecuteTime": {
     "end_time": "2021-05-06T01:40:54.764767Z",
     "start_time": "2021-05-06T01:40:54.746743Z"
    }
   },
   "outputs": [
    {
     "data": {
      "text/html": [
       "<div>\n",
       "<style scoped>\n",
       "    .dataframe tbody tr th:only-of-type {\n",
       "        vertical-align: middle;\n",
       "    }\n",
       "\n",
       "    .dataframe tbody tr th {\n",
       "        vertical-align: top;\n",
       "    }\n",
       "\n",
       "    .dataframe thead th {\n",
       "        text-align: right;\n",
       "    }\n",
       "</style>\n",
       "<table border=\"1\" class=\"dataframe\">\n",
       "  <thead>\n",
       "    <tr style=\"text-align: right;\">\n",
       "      <th></th>\n",
       "      <th>Entry</th>\n",
       "    </tr>\n",
       "  </thead>\n",
       "  <tbody>\n",
       "    <tr>\n",
       "      <th>0</th>\n",
       "      <td>A0A024RBG1</td>\n",
       "    </tr>\n",
       "    <tr>\n",
       "      <th>1</th>\n",
       "      <td>A0A075B6H8</td>\n",
       "    </tr>\n",
       "    <tr>\n",
       "      <th>2</th>\n",
       "      <td>A0A075B6H9</td>\n",
       "    </tr>\n",
       "    <tr>\n",
       "      <th>3</th>\n",
       "      <td>A0A075B6I0</td>\n",
       "    </tr>\n",
       "    <tr>\n",
       "      <th>4</th>\n",
       "      <td>A0A075B6I1</td>\n",
       "    </tr>\n",
       "    <tr>\n",
       "      <th>...</th>\n",
       "      <td>...</td>\n",
       "    </tr>\n",
       "    <tr>\n",
       "      <th>19018</th>\n",
       "      <td>Q9Y6Z5-2</td>\n",
       "    </tr>\n",
       "    <tr>\n",
       "      <th>19019</th>\n",
       "      <td>Q9YNA8</td>\n",
       "    </tr>\n",
       "    <tr>\n",
       "      <th>19020</th>\n",
       "      <td>W5XKT8-2</td>\n",
       "    </tr>\n",
       "    <tr>\n",
       "      <th>19021</th>\n",
       "      <td>W5XKT8-3</td>\n",
       "    </tr>\n",
       "    <tr>\n",
       "      <th>19022</th>\n",
       "      <td>W6CW81</td>\n",
       "    </tr>\n",
       "  </tbody>\n",
       "</table>\n",
       "<p>19023 rows × 1 columns</p>\n",
       "</div>"
      ],
      "text/plain": [
       "            Entry\n",
       "0      A0A024RBG1\n",
       "1      A0A075B6H8\n",
       "2      A0A075B6H9\n",
       "3      A0A075B6I0\n",
       "4      A0A075B6I1\n",
       "...           ...\n",
       "19018    Q9Y6Z5-2\n",
       "19019      Q9YNA8\n",
       "19020    W5XKT8-2\n",
       "19021    W5XKT8-3\n",
       "19022      W6CW81\n",
       "\n",
       "[19023 rows x 1 columns]"
      ]
     },
     "execution_count": 23,
     "metadata": {},
     "output_type": "execute_result"
    }
   ],
   "source": [
    "df_Entry_unkwown_Mod"
   ]
  },
  {
   "cell_type": "code",
   "execution_count": null,
   "id": "e80a007a",
   "metadata": {},
   "outputs": [],
   "source": []
  },
  {
   "cell_type": "code",
   "execution_count": 42,
   "id": "36caea66",
   "metadata": {
    "ExecuteTime": {
     "end_time": "2021-05-06T01:43:58.834463Z",
     "start_time": "2021-05-06T01:43:58.781455Z"
    }
   },
   "outputs": [],
   "source": [
    "df_R_sites_in_unMod_Protein = df_R_sites[y_pred>0.907].merge(df_Entry_unkwown_Mod)#.to_csv(\"df_R_sites_\")"
   ]
  },
  {
   "cell_type": "code",
   "execution_count": 45,
   "id": "efae2097",
   "metadata": {
    "ExecuteTime": {
     "end_time": "2021-05-06T01:44:36.870013Z",
     "start_time": "2021-05-06T01:44:36.860015Z"
    }
   },
   "outputs": [],
   "source": [
    "df_R_sites_in_unMod_Protein.Position = df_R_sites_in_unMod_Protein.Position.astype(int)"
   ]
  },
  {
   "cell_type": "code",
   "execution_count": 48,
   "id": "1686d93e",
   "metadata": {
    "ExecuteTime": {
     "end_time": "2021-05-06T01:47:01.456397Z",
     "start_time": "2021-05-06T01:47:01.297406Z"
    }
   },
   "outputs": [],
   "source": [
    "df_R_sites_in_unMod_Protein[[\"Entry\",\"SeqWin\",\"Position\"]].to_csv(\"df_R_sites_Pred_SeqWin_Position_in_unMod_Protein.csv\",index=False)"
   ]
  },
  {
   "cell_type": "code",
   "execution_count": null,
   "id": "41cc0725",
   "metadata": {
    "ExecuteTime": {
     "start_time": "2021-05-06T01:33:02.778Z"
    }
   },
   "outputs": [],
   "source": [
    "df_predict_pos = df_R_sites[np.concatenate([y_pred1,y_pred2])>0.907]\n",
    "\n",
    "df_predict_pos_Entry = df_predict_pos.Entry.drop_duplicates()"
   ]
  },
  {
   "cell_type": "code",
   "execution_count": null,
   "id": "f1a7f8f2",
   "metadata": {},
   "outputs": [],
   "source": []
  },
  {
   "cell_type": "code",
   "execution_count": null,
   "id": "c2a241f7",
   "metadata": {},
   "outputs": [],
   "source": [
    "#df_predict_pos_Entry.to_csv(\"var/df_predict_pos_Entry.csv\",index=False)"
   ]
  },
  {
   "cell_type": "code",
   "execution_count": 9,
   "id": "fd2db546",
   "metadata": {
    "ExecuteTime": {
     "end_time": "2021-05-06T01:30:22.982318Z",
     "start_time": "2021-05-06T01:30:21.250441Z"
    }
   },
   "outputs": [],
   "source": [
    "df_predict_pos_Entry = pd.read_csv(\"var/df_predict_pos_Entry.csv\")"
   ]
  },
  {
   "cell_type": "code",
   "execution_count": 61,
   "id": "ab65d005",
   "metadata": {
    "ExecuteTime": {
     "end_time": "2021-05-05T07:53:06.681472Z",
     "start_time": "2021-05-05T07:53:06.657475Z"
    }
   },
   "outputs": [
    {
     "data": {
      "text/html": [
       "<div>\n",
       "<style scoped>\n",
       "    .dataframe tbody tr th:only-of-type {\n",
       "        vertical-align: middle;\n",
       "    }\n",
       "\n",
       "    .dataframe tbody tr th {\n",
       "        vertical-align: top;\n",
       "    }\n",
       "\n",
       "    .dataframe thead th {\n",
       "        text-align: right;\n",
       "    }\n",
       "</style>\n",
       "<table border=\"1\" class=\"dataframe\">\n",
       "  <thead>\n",
       "    <tr style=\"text-align: right;\">\n",
       "      <th></th>\n",
       "      <th>Entry</th>\n",
       "    </tr>\n",
       "  </thead>\n",
       "  <tbody>\n",
       "    <tr>\n",
       "      <th>0</th>\n",
       "      <td>A0A024RBG1</td>\n",
       "    </tr>\n",
       "    <tr>\n",
       "      <th>1</th>\n",
       "      <td>A0A075B6H8</td>\n",
       "    </tr>\n",
       "    <tr>\n",
       "      <th>2</th>\n",
       "      <td>A0A075B6H9</td>\n",
       "    </tr>\n",
       "    <tr>\n",
       "      <th>3</th>\n",
       "      <td>A0A075B6I0</td>\n",
       "    </tr>\n",
       "    <tr>\n",
       "      <th>4</th>\n",
       "      <td>A0A075B6I1</td>\n",
       "    </tr>\n",
       "    <tr>\n",
       "      <th>...</th>\n",
       "      <td>...</td>\n",
       "    </tr>\n",
       "    <tr>\n",
       "      <th>22802</th>\n",
       "      <td>Q9Y6Z5-2</td>\n",
       "    </tr>\n",
       "    <tr>\n",
       "      <th>22803</th>\n",
       "      <td>Q9YNA8</td>\n",
       "    </tr>\n",
       "    <tr>\n",
       "      <th>22804</th>\n",
       "      <td>W5XKT8-2</td>\n",
       "    </tr>\n",
       "    <tr>\n",
       "      <th>22805</th>\n",
       "      <td>W5XKT8-3</td>\n",
       "    </tr>\n",
       "    <tr>\n",
       "      <th>22806</th>\n",
       "      <td>W6CW81</td>\n",
       "    </tr>\n",
       "  </tbody>\n",
       "</table>\n",
       "<p>22807 rows × 1 columns</p>\n",
       "</div>"
      ],
      "text/plain": [
       "            Entry\n",
       "0      A0A024RBG1\n",
       "1      A0A075B6H8\n",
       "2      A0A075B6H9\n",
       "3      A0A075B6I0\n",
       "4      A0A075B6I1\n",
       "...           ...\n",
       "22802    Q9Y6Z5-2\n",
       "22803      Q9YNA8\n",
       "22804    W5XKT8-2\n",
       "22805    W5XKT8-3\n",
       "22806      W6CW81\n",
       "\n",
       "[22807 rows x 1 columns]"
      ]
     },
     "execution_count": 61,
     "metadata": {},
     "output_type": "execute_result"
    }
   ],
   "source": [
    "df_predict_pos_Entry"
   ]
  },
  {
   "cell_type": "code",
   "execution_count": 67,
   "id": "ac1b3b8c",
   "metadata": {
    "ExecuteTime": {
     "end_time": "2021-05-05T07:56:22.426869Z",
     "start_time": "2021-05-05T07:56:22.343862Z"
    }
   },
   "outputs": [],
   "source": [
    "df_Entry_kwown_Mod = df_predict_pos_Entry[df_predict_pos_Entry.Entry.isin(df_1.Entry)].Entry.drop_duplicates()\n",
    "\n",
    "df_Entry_unkwown_Mod = df_predict_pos_Entry[~df_predict_pos_Entry.Entry.isin(df_1.Entry)].Entry.drop_duplicates()\n",
    "\n",
    "df_Entry_unkwown_Mod_canonical = df_Entry_unkwown_Mod[~df_Entry_unkwown_Mod.str.contains(\"-\")]\n",
    "\n",
    "df_Entry_unkwown_Mod.to_csv(\"df_Entry_unkwown_Mod_canonical_isoform.csv\",index=False)\n",
    "\n",
    "df_Entry_unkwown_Mod_canonical.to_csv(\"df_Entry_unkwown_Mod_canonical.csv\",index=False)"
   ]
  },
  {
   "cell_type": "code",
   "execution_count": 19,
   "id": "a1e99efa",
   "metadata": {
    "ExecuteTime": {
     "end_time": "2021-05-06T01:39:27.541793Z",
     "start_time": "2021-05-06T01:39:27.132704Z"
    }
   },
   "outputs": [
    {
     "name": "stdout",
     "output_type": "stream",
     "text": [
      "ERROR! Session/line number was not unique in database. History logging moved to new session 426\n"
     ]
    }
   ],
   "source": [
    "df_Entry_unkwown_Mod = pd.read_csv(\"df_Entry_unkwown_Mod_canonical_isoform.csv\")"
   ]
  },
  {
   "cell_type": "code",
   "execution_count": 21,
   "id": "8a0caf35",
   "metadata": {
    "ExecuteTime": {
     "end_time": "2021-05-06T01:40:08.251213Z",
     "start_time": "2021-05-06T01:40:08.241244Z"
    }
   },
   "outputs": [
    {
     "data": {
      "text/html": [
       "<div>\n",
       "<style scoped>\n",
       "    .dataframe tbody tr th:only-of-type {\n",
       "        vertical-align: middle;\n",
       "    }\n",
       "\n",
       "    .dataframe tbody tr th {\n",
       "        vertical-align: top;\n",
       "    }\n",
       "\n",
       "    .dataframe thead th {\n",
       "        text-align: right;\n",
       "    }\n",
       "</style>\n",
       "<table border=\"1\" class=\"dataframe\">\n",
       "  <thead>\n",
       "    <tr style=\"text-align: right;\">\n",
       "      <th></th>\n",
       "      <th>Entry</th>\n",
       "    </tr>\n",
       "  </thead>\n",
       "  <tbody>\n",
       "    <tr>\n",
       "      <th>0</th>\n",
       "      <td>A0A024RBG1</td>\n",
       "    </tr>\n",
       "    <tr>\n",
       "      <th>1</th>\n",
       "      <td>A0A075B6H8</td>\n",
       "    </tr>\n",
       "    <tr>\n",
       "      <th>2</th>\n",
       "      <td>A0A075B6H9</td>\n",
       "    </tr>\n",
       "    <tr>\n",
       "      <th>3</th>\n",
       "      <td>A0A075B6I0</td>\n",
       "    </tr>\n",
       "    <tr>\n",
       "      <th>4</th>\n",
       "      <td>A0A075B6I1</td>\n",
       "    </tr>\n",
       "    <tr>\n",
       "      <th>...</th>\n",
       "      <td>...</td>\n",
       "    </tr>\n",
       "    <tr>\n",
       "      <th>19018</th>\n",
       "      <td>Q9Y6Z5-2</td>\n",
       "    </tr>\n",
       "    <tr>\n",
       "      <th>19019</th>\n",
       "      <td>Q9YNA8</td>\n",
       "    </tr>\n",
       "    <tr>\n",
       "      <th>19020</th>\n",
       "      <td>W5XKT8-2</td>\n",
       "    </tr>\n",
       "    <tr>\n",
       "      <th>19021</th>\n",
       "      <td>W5XKT8-3</td>\n",
       "    </tr>\n",
       "    <tr>\n",
       "      <th>19022</th>\n",
       "      <td>W6CW81</td>\n",
       "    </tr>\n",
       "  </tbody>\n",
       "</table>\n",
       "<p>19023 rows × 1 columns</p>\n",
       "</div>"
      ],
      "text/plain": [
       "            Entry\n",
       "0      A0A024RBG1\n",
       "1      A0A075B6H8\n",
       "2      A0A075B6H9\n",
       "3      A0A075B6I0\n",
       "4      A0A075B6I1\n",
       "...           ...\n",
       "19018    Q9Y6Z5-2\n",
       "19019      Q9YNA8\n",
       "19020    W5XKT8-2\n",
       "19021    W5XKT8-3\n",
       "19022      W6CW81\n",
       "\n",
       "[19023 rows x 1 columns]"
      ]
     },
     "execution_count": 21,
     "metadata": {},
     "output_type": "execute_result"
    }
   ],
   "source": [
    "df_Entry_unkwown_Mod"
   ]
  },
  {
   "cell_type": "code",
   "execution_count": null,
   "id": "52715711",
   "metadata": {},
   "outputs": [],
   "source": [
    "\" \".join(df_predict_pos_Entry.drop_duplicates())  # 用于ID转换"
   ]
  },
  {
   "cell_type": "code",
   "execution_count": null,
   "id": "43ced133",
   "metadata": {},
   "outputs": [],
   "source": [
    "se_ensembol = pd.read_csv(\"var/M20210420A94466D2655679D1FD8953E075198DA828463CE.list\",header=None)[0]"
   ]
  },
  {
   "cell_type": "code",
   "execution_count": null,
   "id": "162305c1",
   "metadata": {},
   "outputs": [],
   "source": [
    "df_ensembol = pd.read_csv(\"/home/zgy/Downloads/Homo_sapiens.GRCh38.101.chr.gtf\",sep=\"\\t\",header=None,skiprows=5,low_memory=False)\n",
    "\n",
    "df_ensembol_symbol = df_ensembol[8].str.extract(\"gene_id \\\"(.*?)\\\".*?gene_name \\\"(.*?)\\\"\")\n",
    "\n",
    "df_ensembol_symbol.columns = [\"ensembol\",\"symbol\"]\n",
    "\n",
    "#df_ensembol_symbol.drop_duplicates().to_csv(\"var/df_ensembol_symbol.csv\")"
   ]
  },
  {
   "cell_type": "code",
   "execution_count": null,
   "id": "73c6aa2a",
   "metadata": {},
   "outputs": [],
   "source": [
    "df_ensembol_symbol = pd.read_csv(\"var/df_ensembol_symbol.csv\",index_col=0)"
   ]
  },
  {
   "cell_type": "code",
   "execution_count": null,
   "id": "ada1271e",
   "metadata": {},
   "outputs": [],
   "source": [
    "#df_symbol = pd.read_csv(\"/home/zgy/Downloads/geo2r.txt\",sep='\\t')[\"Gene.symbol\"].dropna()"
   ]
  },
  {
   "cell_type": "code",
   "execution_count": null,
   "id": "dd43482c",
   "metadata": {},
   "outputs": [],
   "source": [
    "#my_symbol = df_ensembol_symbol[df_ensembol_symbol.ensembol.isin(se_ensembol)].symbol"
   ]
  },
  {
   "cell_type": "code",
   "execution_count": null,
   "id": "b36df82f",
   "metadata": {},
   "outputs": [],
   "source": [
    "import gseapy as gp"
   ]
  },
  {
   "cell_type": "code",
   "execution_count": null,
   "id": "7436ea07",
   "metadata": {},
   "outputs": [],
   "source": [
    "se_ensembol = pd.read_csv(f\"var/M20210420A94466D2655679D1FD8953E075198DA828463CE.list\",header=None)[0]\n",
    "gene_list = df_ensembol_symbol[df_ensembol_symbol.ensembol.isin(se_ensembol)].symbol\n",
    "enr = gp.enrichr(gene_list=gene_list,\n",
    "                 gene_sets=['GO_Biological_Process_2018'],\n",
    "                 organism='human', # don't forget to set organism to the one you desired! e.g. Yeast\n",
    "                 description='',\n",
    "                 outdir=f'var/GO/',\n",
    "                 # no_plot=True,\n",
    "                 cutoff=0.05 # test dataset, use lower value from range(0,1)\n",
    "                )\n",
    "\n",
    "gp.dotplot(enr.res2d,figsize=(8,6),ofname=f'var/GO/GO_Biological_Process_2018/dotplot.pdf')"
   ]
  },
  {
   "cell_type": "code",
   "execution_count": null,
   "id": "a15212df",
   "metadata": {},
   "outputs": [],
   "source": [
    "enr = gp.enrichr(gene_list=gene_list,\n",
    "                 gene_sets=['KEGG_2019_Human'],\n",
    "                 organism='human', # don't forget to set organism to the one you desired! e.g. Yeast\n",
    "                 description='',\n",
    "                 outdir=f'var/KEGG/',\n",
    "                 # no_plot=True,\n",
    "                 cutoff=0.05 # test dataset, use lower value from range(0,1)\n",
    "                )\n",
    "\n",
    "gp.dotplot(enr.res2d,figsize=(8,6),ofname=f'var/KEGG/KEGG_2019_Human/dotplot.pdf')"
   ]
  },
  {
   "cell_type": "markdown",
   "id": "d6561162",
   "metadata": {},
   "source": [
    "# ROC"
   ]
  },
  {
   "cell_type": "code",
   "execution_count": 8,
   "id": "acc20b0e",
   "metadata": {
    "ExecuteTime": {
     "end_time": "2021-05-06T02:47:01.487052Z",
     "start_time": "2021-05-06T02:46:59.772940Z"
    }
   },
   "outputs": [
    {
     "name": "stdout",
     "output_type": "stream",
     "text": [
      "WARNING:tensorflow:AutoGraph could not transform <bound method Model.call of <__main__.Model object at 0x0000022BE61CD888>> and will run it as-is.\n",
      "Please report this to the TensorFlow team. When filing the bug, set the verbosity to 10 (on Linux, `export AUTOGRAPH_VERBOSITY=10`) and attach the full output.\n",
      "Cause: No module named 'tensorflow_core.estimator'\n"
     ]
    },
    {
     "name": "stderr",
     "output_type": "stream",
     "text": [
      "WARNING:tensorflow:AutoGraph could not transform <bound method Model.call of <__main__.Model object at 0x0000022BE61CD888>> and will run it as-is.\n",
      "Please report this to the TensorFlow team. When filing the bug, set the verbosity to 10 (on Linux, `export AUTOGRAPH_VERBOSITY=10`) and attach the full output.\n",
      "Cause: No module named 'tensorflow_core.estimator'\n"
     ]
    },
    {
     "name": "stdout",
     "output_type": "stream",
     "text": [
      "WARNING: AutoGraph could not transform <bound method Model.call of <__main__.Model object at 0x0000022BE61CD888>> and will run it as-is.\n",
      "Please report this to the TensorFlow team. When filing the bug, set the verbosity to 10 (on Linux, `export AUTOGRAPH_VERBOSITY=10`) and attach the full output.\n",
      "Cause: No module named 'tensorflow_core.estimator'\n",
      "WARNING:tensorflow:Large dropout rate: 0.7 (>0.5). In TensorFlow 2.x, dropout() uses dropout rate instead of keep_prob. Please ensure that this is intended.\n"
     ]
    },
    {
     "name": "stderr",
     "output_type": "stream",
     "text": [
      "WARNING:tensorflow:Large dropout rate: 0.7 (>0.5). In TensorFlow 2.x, dropout() uses dropout rate instead of keep_prob. Please ensure that this is intended.\n"
     ]
    },
    {
     "data": {
      "text/plain": [
       "0.847230866478654"
      ]
     },
     "execution_count": 8,
     "metadata": {},
     "output_type": "execute_result"
    }
   ],
   "source": [
    "model.load_weights(\"DL_Model/weights/000/weights.300-0.871.hdf5\")\n",
    "\n",
    "y_true = y_test_m1[nonredundancy]\n",
    "\n",
    "y_pred = model.predict(x_test_m1[nonredundancy],1500)\n",
    "\n",
    "fpr,tpr,thresholds = roc_curve(y_true,y_pred)\n",
    "\n",
    "roc_auc_score(y_true,y_pred)"
   ]
  },
  {
   "cell_type": "code",
   "execution_count": 11,
   "id": "0e0f817a",
   "metadata": {
    "ExecuteTime": {
     "end_time": "2021-05-06T02:51:06.600186Z",
     "start_time": "2021-05-06T02:47:39.588479Z"
    },
    "scrolled": false
   },
   "outputs": [
    {
     "name": "stderr",
     "output_type": "stream",
     "text": [
      "C:\\Users\\zou\\miniconda3\\lib\\site-packages\\sklearn\\base.py:315: UserWarning: Trying to unpickle estimator DecisionTreeClassifier from version 0.23.1 when using version 0.24.2. This might lead to breaking code or invalid results. Use at your own risk.\n",
      "  UserWarning)\n",
      "C:\\Users\\zou\\miniconda3\\lib\\site-packages\\sklearn\\base.py:315: UserWarning: Trying to unpickle estimator RandomForestClassifier from version 0.23.1 when using version 0.24.2. This might lead to breaking code or invalid results. Use at your own risk.\n",
      "  UserWarning)\n",
      "C:\\Users\\zou\\miniconda3\\lib\\site-packages\\sklearn\\base.py:315: UserWarning: Trying to unpickle estimator GaussianNB from version 0.23.1 when using version 0.24.2. This might lead to breaking code or invalid results. Use at your own risk.\n",
      "  UserWarning)\n",
      "C:\\Users\\zou\\miniconda3\\lib\\site-packages\\sklearn\\base.py:315: UserWarning: Trying to unpickle estimator DecisionTreeClassifier from version 0.23.1 when using version 0.24.2. This might lead to breaking code or invalid results. Use at your own risk.\n",
      "  UserWarning)\n",
      "C:\\Users\\zou\\miniconda3\\lib\\site-packages\\sklearn\\base.py:315: UserWarning: Trying to unpickle estimator DecisionTreeClassifier from version 0.23.1 when using version 0.24.2. This might lead to breaking code or invalid results. Use at your own risk.\n",
      "  UserWarning)\n",
      "C:\\Users\\zou\\miniconda3\\lib\\site-packages\\sklearn\\base.py:315: UserWarning: Trying to unpickle estimator BaggingClassifier from version 0.23.1 when using version 0.24.2. This might lead to breaking code or invalid results. Use at your own risk.\n",
      "  UserWarning)\n",
      "C:\\Users\\zou\\miniconda3\\lib\\site-packages\\sklearn\\base.py:315: UserWarning: Trying to unpickle estimator LogisticRegression from version 0.23.1 when using version 0.24.2. This might lead to breaking code or invalid results. Use at your own risk.\n",
      "  UserWarning)\n",
      "C:\\Users\\zou\\miniconda3\\lib\\site-packages\\sklearn\\base.py:315: UserWarning: Trying to unpickle estimator KNeighborsClassifier from version 0.23.1 when using version 0.24.2. This might lead to breaking code or invalid results. Use at your own risk.\n",
      "  UserWarning)\n",
      "C:\\Users\\zou\\miniconda3\\lib\\site-packages\\sklearn\\base.py:315: UserWarning: Trying to unpickle estimator SVC from version 0.23.1 when using version 0.24.2. This might lead to breaking code or invalid results. Use at your own risk.\n",
      "  UserWarning)\n"
     ]
    },
    {
     "data": {
      "image/png": "[encoded data removed]",
      "text/plain": [
       "<Figure size 720x504 with 1 Axes>"
      ]
     },
     "metadata": {
      "needs_background": "light"
     },
     "output_type": "display_data"
    }
   ],
   "source": [
    "plt.figure(figsize=[10,7])\n",
    "plt.plot(fpr,tpr,\"C1\",lw=2,label=\"AUC_DL=%.3f\"%(0.847))\n",
    "\n",
    "model = torch.load(\"./Model/m1_RF.hdf5\")\n",
    "y_pred = model.predict_proba(x_test_m1[nonredundancy])[:,1]\n",
    "roc_auc_score(y_true,y_pred)\n",
    "fpr1,tpr1,thresholds1 = roc_curve(y_true,y_pred)\n",
    "plt.plot(fpr1,tpr1,\"C2\",lw=2,label=\"AUC_RF=%.3f\"%roc_auc_score(y_true,y_pred))\n",
    "\n",
    "model = torch.load(\"./Model/m1_GN.hdf5\")\n",
    "y_pred = model.predict_proba(x_test_m1[nonredundancy])[:,1]\n",
    "roc_auc_score(y_true,y_pred)\n",
    "fpr1,tpr1,thresholds1 = roc_curve(y_true,y_pred)\n",
    "plt.plot(fpr1,tpr1,\"C3\",lw=2,label=\"AUC_GN=%.3f\"%roc_auc_score(y_true,y_pred))\n",
    "\n",
    "model = torch.load(\"./Model/m1_DT.hdf5\")\n",
    "y_pred = model.predict_proba(x_test_m1[nonredundancy])[:,1]\n",
    "roc_auc_score(y_true,y_pred)\n",
    "fpr1,tpr1,thresholds1 = roc_curve(y_true,y_pred)\n",
    "plt.plot(fpr1,tpr1,\"C4\",lw=2,label=\"AUC_DT=%.3f\"%roc_auc_score(y_true,y_pred))\n",
    "\n",
    "model = torch.load(\"./Model/m1_BC.hdf5\")\n",
    "y_pred = model.predict_proba(x_test_m1[nonredundancy])[:,1]\n",
    "roc_auc_score(y_true,y_pred)\n",
    "fpr1,tpr1,thresholds1 = roc_curve(y_true,y_pred)\n",
    "plt.plot(fpr1,tpr1,\"C5\",lw=2,label=\"AUC_BC=%.3f\"%roc_auc_score(y_true,y_pred))\n",
    "\n",
    "model = torch.load(\"./Model/m1_LR.hdf5\")\n",
    "y_pred = model.predict_proba(x_test_m1[nonredundancy])[:,1]\n",
    "roc_auc_score(y_true,y_pred)\n",
    "fpr1,tpr1,thresholds1 = roc_curve(y_true,y_pred)\n",
    "plt.plot(fpr1,tpr1,\"C6\",lw=2,label=\"AUC_LR=%.3f\"%roc_auc_score(y_true,y_pred))\n",
    "\n",
    "model = torch.load(\"./Model/m1_KN.hdf5\")\n",
    "y_pred = model.predict_proba(x_test_m1[nonredundancy])[:,1]\n",
    "roc_auc_score(y_true,y_pred)\n",
    "fpr1,tpr1,thresholds1 = roc_curve(y_true,y_pred)\n",
    "plt.plot(fpr1,tpr1,\"C7\",lw=2,label=\"AUC_KN=%.3f\"%roc_auc_score(y_true,y_pred))\n",
    "\n",
    "model = torch.load(\"./Model/m1_SVC.hdf5\")\n",
    "y_pred = model.predict_proba(x_test_m1[nonredundancy])[:,1]\n",
    "roc_auc_score(y_true,y_pred)\n",
    "fpr1,tpr1,thresholds1 = roc_curve(y_true,y_pred)\n",
    "plt.plot(fpr1,tpr1,\"C8\",lw=2,label=\"AUC_SVC=%.3f\"%roc_auc_score(y_true,y_pred))\n",
    "\n",
    "plt.xlim(0,1)\n",
    "plt.ylim(0,1)\n",
    "plt.xticks([0,0.1,1])\n",
    "plt.yticks([1])\n",
    "plt.xlabel(\"1-Sp\",fontsize=20)\n",
    "plt.ylabel(\"Sn\",fontsize=20)\n",
    "plt.title(\"ROC\",fontsize=20)\n",
    "plt.legend(fontsize=15)\n",
    "#plt.show()\n",
    "plt.savefig(\"ROC_multiple.pdf\")"
   ]
  },
  {
   "cell_type": "code",
   "execution_count": 12,
   "id": "766af538",
   "metadata": {
    "ExecuteTime": {
     "end_time": "2021-05-06T02:54:25.594628Z",
     "start_time": "2021-05-06T02:51:06.602189Z"
    },
    "scrolled": false
   },
   "outputs": [
    {
     "name": "stderr",
     "output_type": "stream",
     "text": [
      "C:\\Users\\zou\\miniconda3\\lib\\site-packages\\sklearn\\base.py:315: UserWarning: Trying to unpickle estimator DecisionTreeClassifier from version 0.23.1 when using version 0.24.2. This might lead to breaking code or invalid results. Use at your own risk.\n",
      "  UserWarning)\n",
      "C:\\Users\\zou\\miniconda3\\lib\\site-packages\\sklearn\\base.py:315: UserWarning: Trying to unpickle estimator RandomForestClassifier from version 0.23.1 when using version 0.24.2. This might lead to breaking code or invalid results. Use at your own risk.\n",
      "  UserWarning)\n",
      "C:\\Users\\zou\\miniconda3\\lib\\site-packages\\sklearn\\base.py:315: UserWarning: Trying to unpickle estimator GaussianNB from version 0.23.1 when using version 0.24.2. This might lead to breaking code or invalid results. Use at your own risk.\n",
      "  UserWarning)\n",
      "C:\\Users\\zou\\miniconda3\\lib\\site-packages\\sklearn\\base.py:315: UserWarning: Trying to unpickle estimator DecisionTreeClassifier from version 0.23.1 when using version 0.24.2. This might lead to breaking code or invalid results. Use at your own risk.\n",
      "  UserWarning)\n",
      "C:\\Users\\zou\\miniconda3\\lib\\site-packages\\sklearn\\base.py:315: UserWarning: Trying to unpickle estimator DecisionTreeClassifier from version 0.23.1 when using version 0.24.2. This might lead to breaking code or invalid results. Use at your own risk.\n",
      "  UserWarning)\n",
      "C:\\Users\\zou\\miniconda3\\lib\\site-packages\\sklearn\\base.py:315: UserWarning: Trying to unpickle estimator BaggingClassifier from version 0.23.1 when using version 0.24.2. This might lead to breaking code or invalid results. Use at your own risk.\n",
      "  UserWarning)\n",
      "C:\\Users\\zou\\miniconda3\\lib\\site-packages\\sklearn\\base.py:315: UserWarning: Trying to unpickle estimator LogisticRegression from version 0.23.1 when using version 0.24.2. This might lead to breaking code or invalid results. Use at your own risk.\n",
      "  UserWarning)\n",
      "C:\\Users\\zou\\miniconda3\\lib\\site-packages\\sklearn\\base.py:315: UserWarning: Trying to unpickle estimator KNeighborsClassifier from version 0.23.1 when using version 0.24.2. This might lead to breaking code or invalid results. Use at your own risk.\n",
      "  UserWarning)\n",
      "C:\\Users\\zou\\miniconda3\\lib\\site-packages\\sklearn\\base.py:315: UserWarning: Trying to unpickle estimator SVC from version 0.23.1 when using version 0.24.2. This might lead to breaking code or invalid results. Use at your own risk.\n",
      "  UserWarning)\n"
     ]
    },
    {
     "data": {
      "image/png": "[encoded data removed]",
      "text/plain": [
       "<Figure size 1080x1800 with 8 Axes>"
      ]
     },
     "metadata": {
      "needs_background": "light"
     },
     "output_type": "display_data"
    }
   ],
   "source": [
    "C = [\"C1\",\"C2\",\"C3\",\"C4\",\"C5\",\"C6\",\"C7\",\"C8\"]\n",
    "M = [\"DL\",\"RF\",\"GN\",\"DT\",\"BC\",\"LR\",\"KN\",\"SVC\"]\n",
    "plt.figure(figsize=[15,25])\n",
    "plt.subplots_adjust(left=None,bottom=None,right=None,top=None,wspace=None,hspace=0.3)\n",
    "for i in range(8):\n",
    "    if i == 0:\n",
    "        plt.subplot(4,2,i+1)\n",
    "        plt.plot(fpr,tpr,C[i],lw=2,label=\"AUC_%s=%.3f\"%(M[i],0.847))\n",
    "        plt.xlim(0,1)\n",
    "        plt.ylim(0,1)\n",
    "        plt.xticks([0,0.1,1])\n",
    "        plt.yticks([1])\n",
    "        plt.xlabel(\"1-Sp\",fontsize=15)\n",
    "        plt.ylabel(\"Sn\",fontsize=15)\n",
    "        plt.title(\"ROC_%s\"%M[i],fontsize=15)\n",
    "        plt.legend(fontsize=12)\n",
    "    else:   \n",
    "        plt.subplot(4,2,i+1)\n",
    "        model = torch.load(\"./Model/m1_%s.hdf5\"%M[i])\n",
    "        y_pred = model.predict_proba(x_test_m1[nonredundancy])[:,1]\n",
    "        roc_auc_score(y_true,y_pred)\n",
    "        fpr1,tpr1,thresholds1 = roc_curve(y_true,y_pred)\n",
    "        plt.plot(fpr1,tpr1,C[i],lw=2,label=\"AUC_%s=%.3f\"%(M[i],roc_auc_score(y_true,y_pred)))\n",
    "\n",
    "        plt.xlim(0,1)\n",
    "        plt.ylim(0,1)\n",
    "        plt.xticks([0,0.1,1])\n",
    "        plt.yticks([1])\n",
    "        plt.xlabel(\"1-Sp\",fontsize=15)\n",
    "        plt.ylabel(\"Sn\",fontsize=15)\n",
    "        plt.title(\"ROC_%s\"%M[i],fontsize=15)\n",
    "        plt.legend(fontsize=12)\n",
    "#plt.show()\n",
    "plt.savefig(\"ROC_single.pdf\")"
   ]
  },
  {
   "cell_type": "code",
   "execution_count": 69,
   "id": "52508040",
   "metadata": {
    "ExecuteTime": {
     "end_time": "2021-05-06T02:09:21.574093Z",
     "start_time": "2021-05-06T02:09:21.123877Z"
    }
   },
   "outputs": [
    {
     "name": "stderr",
     "output_type": "stream",
     "text": [
      "C:\\Users\\zou\\miniconda3\\lib\\site-packages\\sklearn\\base.py:315: UserWarning: Trying to unpickle estimator DecisionTreeClassifier from version 0.23.1 when using version 0.24.2. This might lead to breaking code or invalid results. Use at your own risk.\n",
      "  UserWarning)\n",
      "C:\\Users\\zou\\miniconda3\\lib\\site-packages\\sklearn\\base.py:315: UserWarning: Trying to unpickle estimator RandomForestClassifier from version 0.23.1 when using version 0.24.2. This might lead to breaking code or invalid results. Use at your own risk.\n",
      "  UserWarning)\n"
     ]
    },
    {
     "data": {
      "image/png": "[encoded data removed]",
      "text/plain": [
       "<Figure size 720x504 with 1 Axes>"
      ]
     },
     "metadata": {
      "needs_background": "light"
     },
     "output_type": "display_data"
    }
   ],
   "source": [
    "plt.figure(figsize=[10,7])\n",
    "\n",
    "model = torch.load(\"./Model/m1_RF.hdf5\")\n",
    "y_pred = model.predict_proba(x_test_m1[nonredundancy])[:,1]\n",
    "roc_auc_score(y_true,y_pred)\n",
    "fpr1,tpr1,thresholds1 = roc_curve(y_true,y_pred)\n",
    "plt.plot(fpr1,tpr1,\"C2\",lw=2,label=\"AUC_RF=%.3f\"%roc_auc_score(y_true,y_pred))\n",
    "\n",
    "plt.xlim(0,1)\n",
    "plt.ylim(0,1)\n",
    "plt.xticks([0,0.1,1])\n",
    "plt.yticks([1])\n",
    "plt.xlabel(\"1-Sp\",fontsize=20)\n",
    "plt.ylabel(\"Sn\",fontsize=20)\n",
    "plt.title(\"ROC\",fontsize=20)\n",
    "plt.legend(fontsize=12)\n",
    "plt.show()"
   ]
  },
  {
   "cell_type": "code",
   "execution_count": 71,
   "id": "1886d6f8",
   "metadata": {
    "ExecuteTime": {
     "end_time": "2021-05-06T02:09:40.062799Z",
     "start_time": "2021-05-06T02:09:39.916102Z"
    }
   },
   "outputs": [
    {
     "name": "stderr",
     "output_type": "stream",
     "text": [
      "C:\\Users\\zou\\miniconda3\\lib\\site-packages\\sklearn\\base.py:315: UserWarning: Trying to unpickle estimator GaussianNB from version 0.23.1 when using version 0.24.2. This might lead to breaking code or invalid results. Use at your own risk.\n",
      "  UserWarning)\n"
     ]
    },
    {
     "data": {
      "image/png": "[encoded data removed]",
      "text/plain": [
       "<Figure size 720x504 with 1 Axes>"
      ]
     },
     "metadata": {
      "needs_background": "light"
     },
     "output_type": "display_data"
    }
   ],
   "source": [
    "plt.figure(figsize=[10,7])\n",
    "\n",
    "model = torch.load(\"./Model/m1_GN.hdf5\")\n",
    "y_pred = model.predict_proba(x_test_m1[nonredundancy])[:,1]\n",
    "roc_auc_score(y_true,y_pred)\n",
    "fpr1,tpr1,thresholds1 = roc_curve(y_true,y_pred)\n",
    "plt.plot(fpr1,tpr1,\"C3\",lw=2,label=\"AUC_GN=%.3f\"%roc_auc_score(y_true,y_pred))\n",
    "\n",
    "plt.xlim(0,1)\n",
    "plt.ylim(0,1)\n",
    "plt.xticks([0,0.1,1])\n",
    "plt.yticks([1])\n",
    "plt.xlabel(\"1-Sp\",fontsize=20)\n",
    "plt.ylabel(\"Sn\",fontsize=20)\n",
    "plt.title(\"ROC\",fontsize=20)\n",
    "plt.legend(fontsize=12)\n",
    "plt.show()"
   ]
  },
  {
   "cell_type": "code",
   "execution_count": 72,
   "id": "f0c7afe1",
   "metadata": {
    "ExecuteTime": {
     "end_time": "2021-05-06T02:09:50.788507Z",
     "start_time": "2021-05-06T02:09:50.684513Z"
    }
   },
   "outputs": [
    {
     "name": "stderr",
     "output_type": "stream",
     "text": [
      "C:\\Users\\zou\\miniconda3\\lib\\site-packages\\sklearn\\base.py:315: UserWarning: Trying to unpickle estimator DecisionTreeClassifier from version 0.23.1 when using version 0.24.2. This might lead to breaking code or invalid results. Use at your own risk.\n",
      "  UserWarning)\n"
     ]
    },
    {
     "data": {
      "image/png": "[encoded data removed]",
      "text/plain": [
       "<Figure size 720x504 with 1 Axes>"
      ]
     },
     "metadata": {
      "needs_background": "light"
     },
     "output_type": "display_data"
    }
   ],
   "source": [
    "plt.figure(figsize=[10,7])\n",
    "\n",
    "model = torch.load(\"./Model/m1_DT.hdf5\")\n",
    "y_pred = model.predict_proba(x_test_m1[nonredundancy])[:,1]\n",
    "roc_auc_score(y_true,y_pred)\n",
    "fpr1,tpr1,thresholds1 = roc_curve(y_true,y_pred)\n",
    "plt.plot(fpr1,tpr1,\"C4\",lw=2,label=\"AUC_DT=%.3f\"%roc_auc_score(y_true,y_pred))\n",
    "\n",
    "plt.xlim(0,1)\n",
    "plt.ylim(0,1)\n",
    "plt.xticks([0,0.1,1])\n",
    "plt.yticks([1])\n",
    "plt.xlabel(\"1-Sp\",fontsize=20)\n",
    "plt.ylabel(\"Sn\",fontsize=20)\n",
    "plt.title(\"ROC\",fontsize=20)\n",
    "plt.legend(fontsize=12)\n",
    "plt.show()"
   ]
  },
  {
   "cell_type": "code",
   "execution_count": 73,
   "id": "34ac732b",
   "metadata": {
    "ExecuteTime": {
     "end_time": "2021-05-06T02:10:17.172997Z",
     "start_time": "2021-05-06T02:10:16.883788Z"
    }
   },
   "outputs": [
    {
     "name": "stderr",
     "output_type": "stream",
     "text": [
      "C:\\Users\\zou\\miniconda3\\lib\\site-packages\\sklearn\\base.py:315: UserWarning: Trying to unpickle estimator DecisionTreeClassifier from version 0.23.1 when using version 0.24.2. This might lead to breaking code or invalid results. Use at your own risk.\n",
      "  UserWarning)\n",
      "C:\\Users\\zou\\miniconda3\\lib\\site-packages\\sklearn\\base.py:315: UserWarning: Trying to unpickle estimator BaggingClassifier from version 0.23.1 when using version 0.24.2. This might lead to breaking code or invalid results. Use at your own risk.\n",
      "  UserWarning)\n"
     ]
    },
    {
     "data": {
      "image/png": "[encoded data removed]",
      "text/plain": [
       "<Figure size 720x504 with 1 Axes>"
      ]
     },
     "metadata": {
      "needs_background": "light"
     },
     "output_type": "display_data"
    }
   ],
   "source": [
    "plt.figure(figsize=[10,7])\n",
    "\n",
    "model = torch.load(\"./Model/m1_BC.hdf5\")\n",
    "y_pred = model.predict_proba(x_test_m1[nonredundancy])[:,1]\n",
    "roc_auc_score(y_true,y_pred)\n",
    "fpr1,tpr1,thresholds1 = roc_curve(y_true,y_pred)\n",
    "plt.plot(fpr1,tpr1,\"C5\",lw=2,label=\"AUC_BC=%.3f\"%roc_auc_score(y_true,y_pred))\n",
    "\n",
    "plt.xlim(0,1)\n",
    "plt.ylim(0,1)\n",
    "plt.xticks([0,0.1,1])\n",
    "plt.yticks([1])\n",
    "plt.xlabel(\"1-Sp\",fontsize=20)\n",
    "plt.ylabel(\"Sn\",fontsize=20)\n",
    "plt.title(\"ROC\",fontsize=20)\n",
    "plt.legend(fontsize=12)\n",
    "plt.show()"
   ]
  },
  {
   "cell_type": "code",
   "execution_count": 74,
   "id": "007e02d6",
   "metadata": {
    "ExecuteTime": {
     "end_time": "2021-05-06T02:10:31.792277Z",
     "start_time": "2021-05-06T02:10:31.642638Z"
    }
   },
   "outputs": [
    {
     "name": "stderr",
     "output_type": "stream",
     "text": [
      "C:\\Users\\zou\\miniconda3\\lib\\site-packages\\sklearn\\base.py:315: UserWarning: Trying to unpickle estimator LogisticRegression from version 0.23.1 when using version 0.24.2. This might lead to breaking code or invalid results. Use at your own risk.\n",
      "  UserWarning)\n"
     ]
    },
    {
     "data": {
      "image/png": "[encoded data removed]",
      "text/plain": [
       "<Figure size 720x504 with 1 Axes>"
      ]
     },
     "metadata": {
      "needs_background": "light"
     },
     "output_type": "display_data"
    }
   ],
   "source": [
    "plt.figure(figsize=[10,7])\n",
    "\n",
    "model = torch.load(\"./Model/m1_LR.hdf5\")\n",
    "y_pred = model.predict_proba(x_test_m1[nonredundancy])[:,1]\n",
    "roc_auc_score(y_true,y_pred)\n",
    "fpr1,tpr1,thresholds1 = roc_curve(y_true,y_pred)\n",
    "plt.plot(fpr1,tpr1,\"C6\",lw=2,label=\"AUC_LR=%.3f\"%roc_auc_score(y_true,y_pred))\n",
    "\n",
    "plt.xlim(0,1)\n",
    "plt.ylim(0,1)\n",
    "plt.xticks([0,0.1,1])\n",
    "plt.yticks([1])\n",
    "plt.xlabel(\"1-Sp\",fontsize=20)\n",
    "plt.ylabel(\"Sn\",fontsize=20)\n",
    "plt.title(\"ROC\",fontsize=20)\n",
    "plt.legend(fontsize=12)\n",
    "plt.show()"
   ]
  },
  {
   "cell_type": "code",
   "execution_count": 75,
   "id": "929a4ce4",
   "metadata": {
    "ExecuteTime": {
     "end_time": "2021-05-06T02:13:34.734922Z",
     "start_time": "2021-05-06T02:10:55.995717Z"
    }
   },
   "outputs": [
    {
     "name": "stderr",
     "output_type": "stream",
     "text": [
      "C:\\Users\\zou\\miniconda3\\lib\\site-packages\\sklearn\\base.py:315: UserWarning: Trying to unpickle estimator KNeighborsClassifier from version 0.23.1 when using version 0.24.2. This might lead to breaking code or invalid results. Use at your own risk.\n",
      "  UserWarning)\n"
     ]
    },
    {
     "data": {
      "image/png": "[encoded data removed]",
      "text/plain": [
       "<Figure size 720x504 with 1 Axes>"
      ]
     },
     "metadata": {
      "needs_background": "light"
     },
     "output_type": "display_data"
    }
   ],
   "source": [
    "plt.figure(figsize=[10,7])\n",
    "\n",
    "model = torch.load(\"./Model/m1_KN.hdf5\")\n",
    "y_pred = model.predict_proba(x_test_m1[nonredundancy])[:,1]\n",
    "roc_auc_score(y_true,y_pred)\n",
    "fpr1,tpr1,thresholds1 = roc_curve(y_true,y_pred)\n",
    "plt.plot(fpr1,tpr1,\"C7\",lw=2,label=\"AUC_KN=%.3f\"%roc_auc_score(y_true,y_pred))\n",
    "\n",
    "plt.xlim(0,1)\n",
    "plt.ylim(0,1)\n",
    "plt.xticks([0,0.1,1])\n",
    "plt.yticks([1])\n",
    "plt.xlabel(\"1-Sp\",fontsize=20)\n",
    "plt.ylabel(\"Sn\",fontsize=20)\n",
    "plt.title(\"ROC\",fontsize=20)\n",
    "plt.legend(fontsize=12)\n",
    "plt.show()"
   ]
  },
  {
   "cell_type": "code",
   "execution_count": 76,
   "id": "26c04f34",
   "metadata": {
    "ExecuteTime": {
     "end_time": "2021-05-06T02:14:13.407413Z",
     "start_time": "2021-05-06T02:13:34.736924Z"
    }
   },
   "outputs": [
    {
     "name": "stderr",
     "output_type": "stream",
     "text": [
      "C:\\Users\\zou\\miniconda3\\lib\\site-packages\\sklearn\\base.py:315: UserWarning: Trying to unpickle estimator SVC from version 0.23.1 when using version 0.24.2. This might lead to breaking code or invalid results. Use at your own risk.\n",
      "  UserWarning)\n"
     ]
    },
    {
     "data": {
      "image/png": "[encoded data removed]",
      "text/plain": [
       "<Figure size 720x504 with 1 Axes>"
      ]
     },
     "metadata": {
      "needs_background": "light"
     },
     "output_type": "display_data"
    }
   ],
   "source": [
    "plt.figure(figsize=[10,7])\n",
    "\n",
    "model = torch.load(\"./Model/m1_SVC.hdf5\")\n",
    "y_pred = model.predict_proba(x_test_m1[nonredundancy])[:,1]\n",
    "roc_auc_score(y_true,y_pred)\n",
    "fpr1,tpr1,thresholds1 = roc_curve(y_true,y_pred)\n",
    "plt.plot(fpr1,tpr1,\"C8\",lw=2,label=\"AUC_SVC=%.3f\"%roc_auc_score(y_true,y_pred))\n",
    "\n",
    "plt.xlim(0,1)\n",
    "plt.ylim(0,1)\n",
    "plt.xticks([0,0.1,1])\n",
    "plt.yticks([1])\n",
    "plt.xlabel(\"1-Sp\",fontsize=20)\n",
    "plt.ylabel(\"Sn\",fontsize=20)\n",
    "plt.title(\"ROC\",fontsize=20)\n",
    "plt.legend(fontsize=12)\n",
    "plt.show()"
   ]
  },
  {
   "cell_type": "code",
   "execution_count": null,
   "id": "aee3ef31",
   "metadata": {},
   "outputs": [],
   "source": []
  }
 ],
 "metadata": {
  "kernelspec": {
   "display_name": "Python 3",
   "language": "python",
   "name": "python3"
  },
  "language_info": {
   "codemirror_mode": {
    "name": "ipython",
    "version": 3
   },
   "file_extension": ".py",
   "mimetype": "text/x-python",
   "name": "python",
   "nbconvert_exporter": "python",
   "pygments_lexer": "ipython3",
   "version": "3.7.7"
  },
  "toc": {
   "base_numbering": 1,
   "nav_menu": {},
   "number_sections": true,
   "sideBar": true,
   "skip_h1_title": false,
   "title_cell": "Table of Contents",
   "title_sidebar": "Contents",
   "toc_cell": false,
   "toc_position": {
    "height": "calc(100% - 180px)",
    "left": "10px",
    "top": "150px",
    "width": "276.216px"
   },
   "toc_section_display": true,
   "toc_window_display": true
  }
 },
 "nbformat": 4,
 "nbformat_minor": 5
}
